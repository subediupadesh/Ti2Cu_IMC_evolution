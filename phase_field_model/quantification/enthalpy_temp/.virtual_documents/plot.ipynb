import netCDF4
import numpy as np
import matplotlib.pyplot as plt
import pandas as pd
import os

import subprocess
from matplotlib.animation import FuncAnimation

from matplotlib.colors import ListedColormap
from scipy.io import loadmat
import natsort, pathlib
import os
import glob







df_Cu = pd.read_csv('enthalpy_Cu.csv',  encoding='utf-8')
df_Ti = pd.read_csv('enthalpy_Ti6Al4V.csv',  encoding='utf-8')
df_Cu.head()


fig, ax1 = plt.subplots(1, 1, figsize=[12, 10], frameon=False) #figsize=[8, 10])
ax1.set_facecolor((0, 0, 0, 0))
Cu = ax1.plot(df_Cu['Temperature (K)'], df_Cu['Enthalpy (J/mol)'], color='teal', label=r'Cu', linestyle='-', linewidth=15)
Ti = ax1.plot(df_Ti['Temperature (K)'], df_Ti['Enthalpy (J/mol)'], color='red', label=r'Ti6Al4V', linestyle='-', linewidth=15)
ax1.legend(loc=(0.02, 0.67), ncol=1,  columnspacing=1.0, prop={'weight':'bold', 'size':'50',},  handletextpad=0.5, handlelength=1.0,   frameon=False)

ax1.set_xlabel(r"T [K] $\mathbf{\longrightarrow}$", weight = 'bold', size=50, labelpad=40, color='k')
ax1.set_ylabel(r"Enthalpy [J/mol] $\mathbf{\longrightarrow}$", weight = 'bold', size=50, labelpad=50, color='k')
# ax1.get_yaxis().get_offset_text().set_position((-0.01, 0))

ax1.set_yticks([0, 2e4, 4e4, 6e4, 8e4], labels=[ '0', '2', '4', '6', '8'], size=50, color='k', rotation=0,  weight='bold')
ax1.set_title(r'$\mathbf{\times}$10$\mathbf{^{4}}$', pad=0, loc='left', color='black', fontsize=45, weight='bold')
ax1.set_xticks([1000, 1500, 2000, 2500], labels=['1000', '1500', '2000', '2500'], size=50, color='k', weight='bold')

ax1.set_ylim(-0.2e4, 8.2e4)
ax1.set_xlim(850, 2600)

ax1.tick_params(axis='y', direction='inout', which='both', length=20, width=10)
ax1.tick_params(axis='x', direction='inout', which='both', length=20, width=10)

ax1.spines[:].set_linewidth(8)


ax1.grid(alpha=0.2)

plt.tight_layout()
plt.savefig('T_H.jpg',bbox_inches='tight')
plt.savefig('T_E.png',bbox_inches='tight', transparent=True, dpi=800)

plt.show()





df1 = pd.read_csv('csv_files/t5.csv',  encoding='utf-8')
df2 = pd.read_csv('csv_files/t80.csv',  encoding='utf-8')
df3 = pd.read_csv('csv_files/t150.csv',  encoding='utf-8')
df4 = pd.read_csv('csv_files/t250.csv',  encoding='utf-8')
df5 = pd.read_csv('csv_files/t322.csv',  encoding='utf-8')
df6 = pd.read_csv('csv_files/t460.csv',  encoding='utf-8')
df1.head()





fig, ax1 = plt.subplots(1, 1, figsize=[15, 10], frameon=False) #figsize=[8, 10])
ax1.set_facecolor((0, 0, 0, 0))

# melting = ax1.hlines(y=1358, xmin = 0, xmax = 8, linestyle="--", linewidth=7, color = 'k')
melting = ax1.hlines(y=1250, xmin = 0, xmax = 8, linestyle="--", linewidth=7, color = 'k')

t1 = ax1.plot(df1['Points:0']*1000, df1['temperature'], color='brown', label=r'5 ms', linestyle='-', linewidth=10)
t3 = ax1.plot(df3['Points:0']*1000, df3['temperature'], color='green', label=r'150 ms', linestyle='-', linewidth=10)
t4 = ax1.plot(df4['Points:0']*1000, df4['temperature'], color='m', label=r'250 ms', linestyle='-', linewidth=10)
t5 = ax1.plot(df5['Points:0']*1000, df5['temperature'], color='red', label=r'322 ms', linestyle='-', linewidth=10)
t6 = ax1.plot(df6['Points:0']*1000, df6['temperature'], color='blue', label=r'460 ms', linestyle='-', linewidth=10)


ax1.legend(loc=(0.02, 0.9), ncol=5,  columnspacing=1.0, prop={'weight':'bold', 'size':'25',},  handletextpad=0.5, handlelength=1.0,   frameon=False)

ax1.set_ylabel(r"T [K] $\mathbf{\longrightarrow}$", weight = 'bold', size=70, labelpad=20, color='k')
ax1.set_xlabel(r"Span [mm] $\mathbf{\longrightarrow}$", weight = 'bold', size=70, labelpad=20, color='k')

ax1.set_yticks([300, 650, 1000, 1350, 1700], labels=[ '300', '650', '1000', '1350', '1700'], size=50, color='k', rotation=0,  weight='bold')
ax1.set_xticks([0, 2, 4, 6, 8], labels=['0', '2', '4', '6', '8'], size=50, color='k', weight='bold')


ax1.text(0.5,1300, s='1250 K', color = 'k', fontsize=40, weight='bold',)

ax1.set_ylim(200, 1800)
ax1.set_xlim(-0.25, 8.25)

ax1.tick_params(axis='y', direction='inout', which='both', length=20, width=10)
ax1.tick_params(axis='x', direction='inout', which='both', length=20, width=10)

ax1.spines[:].set_linewidth(8)


ax1.grid(alpha=0.2)

plt.tight_layout()
plt.savefig('T_x.jpg',bbox_inches='tight')
plt.savefig('T_x.png',bbox_inches='tight', transparent=True, dpi=800)

plt.show()






