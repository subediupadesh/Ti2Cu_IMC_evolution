{
 "cells": [
  {
   "cell_type": "code",
   "execution_count": 1,
   "id": "cdfb7255-ef2b-4960-bb67-f62b8621b137",
   "metadata": {
    "tags": []
   },
   "outputs": [],
   "source": [
    "import netCDF4\n",
    "import numpy as np\n",
    "import matplotlib.pyplot as plt\n",
    "import pandas as pd\n",
    "import os\n",
    "\n",
    "import subprocess\n",
    "from matplotlib.animation import FuncAnimation\n",
    "\n",
    "from matplotlib.colors import ListedColormap\n",
    "from scipy.io import loadmat\n",
    "import natsort, pathlib\n",
    "import os\n",
    "import glob\n",
    "\n",
    "\n",
    "path_1 = os.path.abspath('../moose_files/v6/exodus/')\n",
    "# path_2 = os.path.abspath('../moose_files/AgTi/')"
   ]
  },
  {
   "cell_type": "code",
   "execution_count": null,
   "id": "e85f5ad2-1af2-435a-88c2-cee506360978",
   "metadata": {},
   "outputs": [],
   "source": [
    "colormap_data = loadmat('cold2hot.mat')\n",
    "cold2hot = ListedColormap(colormap_data['colormap'])"
   ]
  },
  {
   "cell_type": "markdown",
   "id": "65d9d8e5-25d6-45b1-850d-2d23765b62e1",
   "metadata": {},
   "source": [
    "### All Phases and Area data import"
   ]
  },
  {
   "cell_type": "code",
   "execution_count": null,
   "id": "045971b7-564e-4831-96ed-086114d14483",
   "metadata": {},
   "outputs": [],
   "source": [
    "area_df1 = pd.read_csv(path_1+'/5.csv',  encoding='utf-8')\n",
    "area_df1['area_IMC_total'] =  area_df1['area_h2']+area_df1['area_h3']+area_df1['area_h4']+area_df1['area_h5']\n",
    "area_df1['area_total'] =  area_df1['area_IMC_total'] + area_df1['area_h1']\n",
    "real_time = np.array(area_df1['time'])/1e4 ## turning time_scale of 1e7  to 1e3 (into ms scale)\n",
    "area_df1['real_time_(ms)'] = real_time \n",
    "area_df1.head()"
   ]
  },
  {
   "cell_type": "markdown",
   "id": "a1165241-dfb3-44b0-8d26-30867f826ed7",
   "metadata": {
    "jp-MarkdownHeadingCollapsed": true
   },
   "source": [
    "### Loading .e file"
   ]
  },
  {
   "cell_type": "code",
   "execution_count": null,
   "id": "9359fbbc-d49b-4478-9441-02d0199aa53b",
   "metadata": {},
   "outputs": [],
   "source": [
    "# model_path_1 = path_1+'/5.e'\n",
    "# model_1 = netCDF4.Dataset(model_path_1)\n",
    "\n",
    "# # # model_path_2 = path_2+'/3.e'\n",
    "# # # model_2 = netCDF4.Dataset(model_path_2)\n",
    "\n",
    "# # # For 5 eta\n",
    "# parameters = ['vals_nod_var1', 'vals_nod_var2', 'vals_nod_var3', 'vals_nod_var4', 'vals_nod_var5', 'vals_nod_var6', 'vals_nod_var7', 'vals_nod_var8', 'vals_nod_var9']\n",
    "# param_in_exodus = ['bnds',  'c', 'c1', 'c2', 'eta_1', 'eta_2', 'eta_3', 'eta_4', 'eta_5']\n",
    "# param_name = ['bnds', 'universal comp', r'C$_{Ti}$', r'C$_{Cu}$', r'Ti$_{rich}$', r'CuTi$_2$$_{IMC_{1}}$', r'CuTi$_2$$_{IMC_{2}}$', r'CuTi$_2$$_{IMC_{3}}$', r'CuTi$_2$$_{IMC_{4}}$',]\n",
    "# ###################\n",
    "\n",
    "# # # ########################### For Area from .e file ################\n",
    "# # # time = np.array(model_1.variables['time_whole'][:]).reshape((-1, 1))\n",
    "# # # areas = np.array(model_1.variables['vals_glo_var'][:])\n",
    "\n",
    "# # # data_of_area = np.concatenate((time, areas), axis=1)\n",
    "# # # area_IMC = np.sum(areas[:, 1:4], axis=1, keepdims=True)\n",
    "# # # data_of_area = np.concatenate((data_of_area, area_IMC), axis=1)\n",
    "# # # data_of_area = np.concatenate((data_of_area, time/1e4), axis=1)\n",
    "\n",
    "# # # area_df1 = pd.DataFrame(data_of_area, columns=['time', 'area_h1', 'area_h2', 'area_h3', 'area_h4', 'area_h5', 'area_IMC_total', 'real_time_(ms)'])\n",
    "# # # area_df1.head()"
   ]
  },
  {
   "cell_type": "markdown",
   "id": "cd115f74-6eda-43f7-b49f-b6065819e911",
   "metadata": {
    "jp-MarkdownHeadingCollapsed": true
   },
   "source": [
    "### Organizing MOOSE exodus file and Saving it as Numpy Files"
   ]
  },
  {
   "cell_type": "code",
   "execution_count": null,
   "id": "2617eb31-d1be-4242-b9c8-d003122f2b5f",
   "metadata": {},
   "outputs": [],
   "source": [
    "# i=1\n",
    "# param = model_1.variables[parameters[i]][:]\n",
    "\n",
    "# X_all = model_1.variables['coordx'][:]\n",
    "# Y_all = model_1.variables['coordy'][:]\n",
    "\n",
    "# points = np.vstack([Y_all,X_all,param]).T\n",
    "\n",
    "# column_names = ['X', 'Y'] + list(range(param.shape[0]))\n",
    "# df = pd.DataFrame(points, columns=column_names)\n",
    "# df = df.sort_values(by = ['X', 'Y'], ascending = [True, True], ignore_index=True)\n",
    "# df_param = df.iloc[:, 2:]\n",
    "\n",
    "# x_dim  = model_1.dimensions['num_nod_ns1'].size\n",
    "# y_dim =  model_1.dimensions['num_nod_ns2'].size\n",
    "# time_steps = model_1.dimensions['time_step'].size\n",
    "# comp_uni = df_param.to_numpy().flatten().reshape(y_dim, x_dim, time_steps)\n",
    "# comp_uni = np.flip(comp_uni, axis=0)\n",
    "# # np.save('../numpy_files/comp_uni.npy', comp_uni)\n",
    "# plt.imshow(comp_uni[:,:,0])"
   ]
  },
  {
   "cell_type": "code",
   "execution_count": null,
   "id": "70091ca8-0c1b-4107-a391-a7caee08b94a",
   "metadata": {},
   "outputs": [],
   "source": [
    "# Ti, IMC1, IMC2, IMC3, IMC4 = [], [], [], [], []\n",
    "# for i in range(5):\n",
    "#     param = model_1.variables[parameters[i+4]][:]\n",
    "\n",
    "#     X_all = model_1.variables['coordx'][:]\n",
    "#     Y_all = model_1.variables['coordy'][:]\n",
    "    \n",
    "#     points = np.vstack([Y_all,X_all,param]).T\n",
    "    \n",
    "#     column_names = ['X', 'Y'] + list(range(param.shape[0]))\n",
    "#     df = pd.DataFrame(points, columns=column_names)\n",
    "#     df = df.sort_values(by = ['X', 'Y'], ascending = [True, True], ignore_index=True)\n",
    "#     df_param = df.iloc[:, 2:]\n",
    "    \n",
    "#     x_dim  = model_1.dimensions['num_nod_ns1'].size\n",
    "#     y_dim =  model_1.dimensions['num_nod_ns2'].size\n",
    "#     time_steps = model_1.dimensions['time_step'].size\n",
    "#     array_ = df_param.to_numpy().flatten().reshape(y_dim, x_dim, time_steps)\n",
    "#     array = np.flip(array_, axis=0)\n",
    "#     if i == 0:\n",
    "#         Ti.append(array)\n",
    "#     elif i == 1:\n",
    "#         IMC1.append(array)\n",
    "#     elif i == 2:\n",
    "#         IMC2.append(array)\n",
    "#     elif i == 3:\n",
    "#         IMC3.append(array)\n",
    "#     else:\n",
    "#         IMC4.append(array)\n",
    "\n",
    "# time = np.array(model_1.variables['time_whole'][:]).reshape((-1, ))\n",
    "# Ti, IMC1, IMC2, IMC3, IMC4, time_ms = Ti[0][:,:,:], IMC1[0][:,:,:], IMC2[0][:,:,:], IMC3[0][:,:,:], IMC4[0][:,:,:], time/1e4\n",
    "\n",
    "\n",
    "# # # ##########################################\n",
    "# # # # Saving as Npmpy Files\n",
    "# # # np.save('../numpy_files/Ti.npy', Ti)\n",
    "# # # np.save('../numpy_files/IMC1.npy', IMC1)\n",
    "# # # np.save('../numpy_files/IMC2.npy', IMC2)\n",
    "# # # np.save('../numpy_files/IMC3.npy', IMC3)\n",
    "# # # np.save('../numpy_files/IMC4.npy', IMC4)\n",
    "# # # np.save('../numpy_files/time_ms.npy', time_ms)\n",
    "\n",
    "# # # np.savez('../numpy_files/CuTi.npz', arr1=Ti, arr2=IMC1, arr3=IMC2, arr4=IMC3, arr5=IMC4, arr6=time_ms)"
   ]
  },
  {
   "cell_type": "code",
   "execution_count": null,
   "id": "78cbfbea-d78c-45a1-8f16-82fc24569867",
   "metadata": {},
   "outputs": [],
   "source": []
  },
  {
   "cell_type": "markdown",
   "id": "76c2c598-c301-44bc-a78d-26710ae5bba8",
   "metadata": {
    "jp-MarkdownHeadingCollapsed": true
   },
   "source": [
    "### Loading from Numpy File"
   ]
  },
  {
   "cell_type": "code",
   "execution_count": null,
   "id": "193df422-f41b-491e-92f2-09078c4cf2ef",
   "metadata": {},
   "outputs": [],
   "source": [
    "# model_1 = np.load('../numpy_files/CuTi.npz')\n",
    "\n",
    "\n",
    "# Ti = model_1['arr1']\n",
    "# IMC1 = model_1['arr2']\n",
    "# IMC2 = model_1['arr3']\n",
    "# IMC3 = model_1['arr4']\n",
    "# IMC4 = model_1['arr5']\n",
    "# time_ms = model_1['arr6']\n",
    "\n",
    "# time_steps =  time_ms.shape[0]"
   ]
  },
  {
   "cell_type": "code",
   "execution_count": null,
   "id": "db1d1d48-db71-42a8-afc4-1f7ac5072a8a",
   "metadata": {},
   "outputs": [],
   "source": [
    "Ti =  np.load('../numpy_files/Ti.npy')\n",
    "IMC1 = np.load('../numpy_files/IMC1.npy')\n",
    "IMC2 = np.load('../numpy_files/IMC2.npy')\n",
    "IMC3 = np.load('../numpy_files/IMC3.npy')\n",
    "IMC4 = np.load('../numpy_files/IMC4.npy')\n",
    "time_ms = np.load('../numpy_files/time_ms.npy')\n",
    "comp_uni = np.load('../numpy_files/comp_uni.npy')"
   ]
  },
  {
   "cell_type": "code",
   "execution_count": null,
   "id": "af80ef06-79be-4bbe-9aec-7d9914bfeb39",
   "metadata": {},
   "outputs": [],
   "source": []
  },
  {
   "cell_type": "markdown",
   "id": "aac83386-fb2e-4ff8-a98b-125fea2e393e",
   "metadata": {
    "jp-MarkdownHeadingCollapsed": true
   },
   "source": [
    "## Global Composition plot over a line"
   ]
  },
  {
   "cell_type": "code",
   "execution_count": null,
   "id": "23733121-66d7-4714-8c18-2e4d46735ef9",
   "metadata": {},
   "outputs": [],
   "source": [
    "t_steps = [0,100, 250,500,750,1000,1250,1500,1750,2000,2111]\n",
    "\n",
    "for t_step in t_steps:\n",
    "  fig, (ax1,ax2) = plt.subplots(1,2, figsize=(18,8), frameon=True)\n",
    "  plt.subplots_adjust(left=None, bottom=None, right=None, top=None, wspace=0.1, hspace=0.9)\n",
    "  \n",
    "  cmap = plt.get_cmap('jet')\n",
    "  cmap.set_under('white', alpha=0)\n",
    "  hmap1 = ax1.imshow(Ti[:,:,t_step], cmap=cmap, vmin=0.3, vmax=1.0, interpolation='bilinear')\n",
    "  cmap=cold2hot\n",
    "  cmap.set_under('white', alpha=0) \n",
    "  hmap21 = ax1.imshow(IMC1[:,:,t_step], cmap=cmap, vmin=0.5, vmax=0.6, interpolation='bilinear')\n",
    "  hmap22 = ax1.imshow(IMC2[:,:,t_step], cmap=cmap, vmin=0.5, vmax=0.6, interpolation='bilinear')\n",
    "  hmap23 = ax1.imshow(IMC3[:,:,t_step], cmap=cmap, vmin=0.5, vmax=0.6, interpolation='bilinear')\n",
    "  hmap24 = ax1.imshow(IMC4[:,:,t_step], cmap=cmap, vmin=0.5, vmax=0.6, interpolation='bilinear')\n",
    "  # hmap24 = ax1.imshow(comp_uni[:,:,t_step], cmap=cmap, vmin=0.1, vmax=1.0, interpolation='bilinear')\n",
    "  \n",
    "  if t_step <= 600:\n",
    "    imc1txt3 = ax1.text(200, 360, 'IMC', fontsize = 45, weight='bold')\n",
    "    imc1txt3 = ax1.text(220, 315,'G$_{1}$',  fontsize = 45, weight='bold')\n",
    "    imc2txt3 = ax1.text(120,263, 'G$_{2}$',  fontsize = 40, weight='bold')\n",
    "    imc3txt3 = ax1.text(320,263, 'G$_{3}$',  fontsize = 40, weight='bold')\n",
    "    imc4txt3 = ax1.text(220,130, 'G$_{4}$',  fontsize = 45, weight='bold')\n",
    "    imc4txt3 = ax1.text(85,30, 'HCP',  fontsize = 45, weight='bold', color='white')\n",
    "  else:\n",
    "    imc1txt3 = ax1.text(205, 360, 'IMC', fontsize = 45, weight='bold')\n",
    "    imc1txt3 = ax1.text(220, 315,'G$_{1}$',  fontsize = 50, weight='bold')\n",
    "    imc2txt3 = ax1.text(120,265, 'G$_{2}$',  fontsize = 50, weight='bold')\n",
    "    imc3txt3 = ax1.text(320,265, 'G$_{3}$',  fontsize = 50, weight='bold')\n",
    "    imc4txt3 = ax1.text(220,130, 'G$_{4}$',  fontsize = 50, weight='bold')\n",
    "    imc4txt3 = ax1.text(85,12, 'HCP',  fontsize = 45, weight='bold', color='white')\n",
    "  ax1.hlines(y=250, xmin=0, xmax=500, linewidth=5, linestyle='--', color='blue')\n",
    "  ax1.tick_params(axis='both', labelcolor='black', labelsize=65, bottom=False, top=False, left=False, right=False, labelbottom=False, labelleft=False)\n",
    "  ax1.set_xlabel(r'$\\mathbf{\\longleftarrow}$    500     $\\mathbf{nm}$$\\mathbf{\\longrightarrow}$', fontsize = 45, weight ='bold', color='k')\n",
    "  ax1.annotate(r'$\\mathbf{\\longleftarrow}$    500     $\\mathbf{nm}$$\\mathbf{\\longrightarrow}$', xy=(0.5, 0.5), xytext=(-0.05, 0.5), rotation=90, color='k', xycoords='axes fraction', textcoords='axes fraction', fontsize = 45, weight = 'bold', ha='center', va='center')\n",
    "  # ax1.annotate(r'$\\leftarrow$500 $\\mathbf{nm}$$\\rightarrow$', xy=(0.5, 0.5), xytext=(0.5, -0.1), rotation=0, color='k', xycoords='axes fraction', textcoords='axes fraction', fontsize = 45, weight = 'bold', ha='center', va='center')\n",
    "  ax1.set_ylim(0, 500)    \n",
    "  ax1.set_xlim(0, 500)\n",
    "  \n",
    "  ###############################################\n",
    "  # ax2.tick_params(axis='both', labelcolor='black', labelsize=65, bottom=False, top=False, left=False, right=False, labelbottom=False, labelleft=False)\n",
    "  ax2.plot(comp_uni[225,:,t_step], color='blue', linestyle='--', linewidth=8, label=r'c$\\mathbf{_{Cu}}$')\n",
    "  ax2.set_ylim(-0.05, 1.05)    \n",
    "  ax2.set_xlim(-20, 520)\n",
    "  ax2.set_yticks([0, 0.25, 0.5, 0.75, 1], labels=['0.00', '0.25', '0.50', '0.75', '1.00'], size=30, color='k', weight='bold')\n",
    "  ax2.set_xticks([0, 125, 250, 375, 500], labels=['0', '125', '250', '375', '500'], size=30, color='k', weight='bold')\n",
    "  \n",
    "  ax2.set_xlabel(r'x  [nm]$\\mathbf{\\longrightarrow}$ ', fontsize = 45, weight ='bold', color='k')\n",
    "  ax2.set_ylabel(r'C$\\mathbf{_{Cu} \\longrightarrow}$', fontsize = 65, weight ='bold', color='k')\n",
    "  ax2.grid(alpha=0.2)\n",
    "  ax2.legend(loc=(0.1, 0.7), ncol=1,  columnspacing=1.0, prop={'weight':'bold', 'size':'50',}, \n",
    "             handletextpad=0.5, handlelength=1.5,   frameon=False)#.get_frame().set_facecolor('none')\n",
    "  \n",
    "  \n",
    "  \n",
    "  \n",
    "  fig.text(0.43, 0.52, '- - - - - - - - - - - - - - - - - - - - - ', ha='center', va='center', fontsize=40, rotation=90, color='k')\n",
    "  plt.tight_layout()\n",
    "  plt.savefig(f'figures/composition/jpg/Ti2Cu_t{time_ms[t_step]:.0f}ms.jpg')\n",
    "  plt.savefig(f'figures/composition/Ti2Cu_t{time_ms[t_step]:.0f}ms.png', format='png', dpi=800)\n",
    "  print(f'{time_ms[t_step]:.0f}ms')\n",
    "  plt.close()\n",
    "  # plt.show()\n"
   ]
  },
  {
   "cell_type": "markdown",
   "id": "a997ed03-9a4b-43b4-983f-4c2aee647f5d",
   "metadata": {
    "jp-MarkdownHeadingCollapsed": true
   },
   "source": [
    "## $\\eta_1$ plot over a line"
   ]
  },
  {
   "cell_type": "code",
   "execution_count": null,
   "id": "f1b9a564-4bc6-4ead-9c9a-f41f6238a4ad",
   "metadata": {},
   "outputs": [],
   "source": [
    "t_steps = [0,100, 250,500,750,1000,1250,1500,1750,2000,2111]\n",
    "for t_step in t_steps:\n",
    "\n",
    "  fig, (ax1,ax2) = plt.subplots(1,2, figsize=(18,8), frameon=True)\n",
    "  plt.subplots_adjust(left=None, bottom=None, right=None, top=None, wspace=0.1, hspace=0.9)\n",
    "  \n",
    "  cmap = plt.get_cmap('gist_ncar_r')\n",
    "  cmap.set_under('white', alpha=0)\n",
    "  hmap1 = ax1.imshow(Ti[:,:,t_step], cmap=cmap, vmin=0.3, vmax=1.0, interpolation='bilinear')\n",
    "  cmap=plt.get_cmap('gist_ncar')\n",
    "  cmap.set_under('white', alpha=0) \n",
    "  hmap21 = ax1.imshow(IMC1[:,:,t_step], cmap=cmap, vmin=0.5, vmax=0.6, interpolation='bilinear')\n",
    "  hmap22 = ax1.imshow(IMC2[:,:,t_step], cmap=cmap, vmin=0.5, vmax=0.6, interpolation='bilinear')\n",
    "  hmap23 = ax1.imshow(IMC3[:,:,t_step], cmap=cmap, vmin=0.5, vmax=0.6, interpolation='bilinear')\n",
    "  hmap24 = ax1.imshow(IMC4[:,:,t_step], cmap=cmap, vmin=0.5, vmax=0.6, interpolation='bilinear')\n",
    "  if t_step <= 600:\n",
    "    imc1txt3 = ax1.text(200, 360, 'IMC', fontsize = 45, weight='bold')\n",
    "    imc1txt3 = ax1.text(220, 315,'G$_{1}$',  fontsize = 45, weight='bold')\n",
    "    imc2txt3 = ax1.text(120,263, 'G$_{2}$',  fontsize = 40, weight='bold')\n",
    "    imc3txt3 = ax1.text(320,263, 'G$_{3}$',  fontsize = 40, weight='bold')\n",
    "    imc4txt3 = ax1.text(220,130, 'G$_{4}$',  fontsize = 45, weight='bold')\n",
    "    imc4txt3 = ax1.text(85,30, r'HCP ($\\eta_1$)',  fontsize = 45, weight='bold', color='white')\n",
    "  else:\n",
    "    imc1txt3 = ax1.text(205, 360, 'IMC', fontsize = 45, weight='bold')\n",
    "    imc1txt3 = ax1.text(220, 315,'G$_{1}$',  fontsize = 50, weight='bold')\n",
    "    imc2txt3 = ax1.text(120,265, 'G$_{2}$',  fontsize = 50, weight='bold')\n",
    "    imc3txt3 = ax1.text(320,265, 'G$_{3}$',  fontsize = 50, weight='bold')\n",
    "    imc4txt3 = ax1.text(220,130, 'G$_{4}$',  fontsize = 50, weight='bold')\n",
    "    imc4txt3 = ax1.text(85,12, r'HCP ($\\eta_1$)',  fontsize = 45, weight='bold', color='white')\n",
    "  ax1.hlines(y=250, xmin=0, xmax=500, linewidth=5, linestyle=':', color='orangered')\n",
    "  ax1.tick_params(axis='both', labelcolor='black', labelsize=65, bottom=False, top=False, left=False, right=False, labelbottom=False, labelleft=False)\n",
    "  ax1.set_xlabel(r'$\\mathbf{\\longleftarrow}$    500     $\\mathbf{nm}$$\\mathbf{\\longrightarrow}$', fontsize = 45, weight ='bold', color='k')\n",
    "  ax1.annotate(r'$\\mathbf{\\longleftarrow}$    500     $\\mathbf{nm}$$\\mathbf{\\longrightarrow}$', xy=(0.5, 0.5), xytext=(-0.05, 0.5), rotation=90, color='k', xycoords='axes fraction', textcoords='axes fraction', fontsize = 45, weight = 'bold', ha='center', va='center')\n",
    "  # ax1.annotate(r'$\\leftarrow$500 $\\mathbf{nm}$$\\rightarrow$', xy=(0.5, 0.5), xytext=(0.5, -0.1), rotation=0, color='k', xycoords='axes fraction', textcoords='axes fraction', fontsize = 45, weight = 'bold', ha='center', va='center')\n",
    "  ax1.set_ylim(0, 500)    \n",
    "  ax1.set_xlim(0, 500)\n",
    "  \n",
    "  ###############################################\n",
    "  # ax2.tick_params(axis='both', labelcolor='black', labelsize=65, bottom=False, top=False, left=False, right=False, labelbottom=False, labelleft=False)\n",
    "  \n",
    "  eta1 = Ti[225,:,t_step]\n",
    "  eta1[:][eta1[:] < 0], eta1[:][eta1[:] > 1] = 0, 1\n",
    "  ax2.plot(eta1[:], color='orangered', linestyle='--', marker='o',  linewidth=8, label=r'$\\mathbf{\\eta_1}$')\n",
    "  ax2.set_ylim(-0.05, 1.05)    \n",
    "  ax2.set_xlim(-20, 520)\n",
    "  ax2.set_yticks([0, 0.25, 0.5, 0.75, 1], labels=['0.00', '0.25', '0.50', '0.75', '1.00'], size=30, color='k', weight='bold')\n",
    "  ax2.set_xticks([0, 125, 250, 375, 500], labels=['0', '125', '250', '375', '500'], size=30, color='k', weight='bold')\n",
    "  \n",
    "  ax2.set_xlabel(r'x  [nm]$\\mathbf{\\longrightarrow}$ ', fontsize = 45, weight ='bold', color='k')\n",
    "  ax2.set_ylabel(r'$\\mathbf{\\eta_{1} \\longrightarrow}$', fontsize = 65, weight ='bold', color='k')\n",
    "  ax2.grid(alpha=0.2)\n",
    "  ax2.legend(loc=(0.80, 0.01), ncol=1,  columnspacing=1.0, prop={'weight':'bold', 'size':'30',}, \n",
    "             handletextpad=0.5, handlelength=1.0,   frameon=True)#.get_frame().set_facecolor('none')\n",
    "  \n",
    "  del eta1\n",
    "  \n",
    "  fig.text(0.43, 0.52, '- - - - - - - - - - - - - - - - - - - - - ', ha='center', va='center', fontsize=40, rotation=90, color='k')\n",
    "  plt.tight_layout()\n",
    "  plt.savefig(f'figures/eta/jpg/Ti2Cu_t{time_ms[t_step]:.0f}ms.jpg')\n",
    "  plt.savefig(f'figures/eta/Ti2Cu_t{time_ms[t_step]:.0f}ms.png', format='png', dpi=800)\n",
    "  print(f'{time_ms[t_step]:.0f}ms')\n",
    "  plt.close()\n",
    "  # plt.show()\n"
   ]
  },
  {
   "cell_type": "code",
   "execution_count": null,
   "id": "f56660b1-ddb4-4990-9409-f8ea0acc4536",
   "metadata": {},
   "outputs": [],
   "source": []
  },
  {
   "cell_type": "markdown",
   "id": "e59e8065-f356-4dc7-af8f-d2baa86567dc",
   "metadata": {
    "jp-MarkdownHeadingCollapsed": true
   },
   "source": [
    "## $\\eta_1$ & global composition plot over a line"
   ]
  },
  {
   "cell_type": "code",
   "execution_count": null,
   "id": "75785769-92be-47eb-88e6-9ec3cd3fee5f",
   "metadata": {},
   "outputs": [],
   "source": [
    "t_steps = [0,100, 250,500,750,1000,1250,1500,1750,2000,2111]\n",
    "\n",
    "for t_step in t_steps:\n",
    "\n",
    "  fig, (ax1,ax2) = plt.subplots(1,2, figsize=(20,8), frameon=True)\n",
    "  plt.subplots_adjust(left=None, bottom=None, right=None, top=None, wspace=0.1, hspace=0.9)\n",
    "  \n",
    "  cmap = plt.get_cmap('gist_ncar_r')\n",
    "  cmap.set_under('white', alpha=0)\n",
    "  hmap1 = ax1.imshow(Ti[:,:,t_step], cmap=cmap, vmin=0.3, vmax=1.0, interpolation='bilinear')\n",
    "  cmap=plt.get_cmap('gist_ncar')\n",
    "  cmap.set_under('white', alpha=0) \n",
    "  hmap21 = ax1.imshow(IMC1[:,:,t_step], cmap=cmap, vmin=0.5, vmax=0.6, interpolation='bilinear')\n",
    "  hmap22 = ax1.imshow(IMC2[:,:,t_step], cmap=cmap, vmin=0.5, vmax=0.6, interpolation='bilinear')\n",
    "  hmap23 = ax1.imshow(IMC3[:,:,t_step], cmap=cmap, vmin=0.5, vmax=0.6, interpolation='bilinear')\n",
    "  hmap24 = ax1.imshow(IMC4[:,:,t_step], cmap=cmap, vmin=0.5, vmax=0.6, interpolation='bilinear')\n",
    "  if t_step <= 600:\n",
    "    imc1txt3 = ax1.text(200, 360, 'IMC', fontsize = 45, weight='bold')\n",
    "    imc1txt3 = ax1.text(220, 315,'G$_{1}$',  fontsize = 45, weight='bold')\n",
    "    imc2txt3 = ax1.text(120,263, 'G$_{2}$',  fontsize = 40, weight='bold')\n",
    "    imc3txt3 = ax1.text(320,263, 'G$_{3}$',  fontsize = 40, weight='bold')\n",
    "    imc4txt3 = ax1.text(220,130, 'G$_{4}$',  fontsize = 45, weight='bold')\n",
    "    imc4txt3 = ax1.text(85,30, r'HCP ($\\eta_1$)',  fontsize = 45, weight='bold', color='white')\n",
    "  else:\n",
    "    imc1txt3 = ax1.text(205, 360, 'IMC', fontsize = 45, weight='bold')\n",
    "    imc1txt3 = ax1.text(220, 315,'G$_{1}$',  fontsize = 50, weight='bold')\n",
    "    imc2txt3 = ax1.text(120,265, 'G$_{2}$',  fontsize = 50, weight='bold')\n",
    "    imc3txt3 = ax1.text(320,265, 'G$_{3}$',  fontsize = 50, weight='bold')\n",
    "    imc4txt3 = ax1.text(220,130, 'G$_{4}$',  fontsize = 50, weight='bold')\n",
    "    imc4txt3 = ax1.text(85,12, r'HCP ($\\eta_1$)',  fontsize = 45, weight='bold', color='white')\n",
    "  ax1.hlines(y=250, xmin=0, xmax=500, linewidth=5, linestyle='--', color='red')\n",
    "  ax1.vlines(x=250, ymin=0, ymax=500, linewidth=5, linestyle='--', color='lime')\n",
    "  ax1.tick_params(axis='both', labelcolor='black', labelsize=65, bottom=False, top=False, left=False, right=False, labelbottom=False, labelleft=False)\n",
    "  ax1.set_xlabel(r'$\\mathbf{\\longleftarrow}$    500     $\\mathbf{nm}$$\\mathbf{\\longrightarrow}$', fontsize = 45, weight ='bold', color='k')\n",
    "  ax1.annotate(r'$\\mathbf{\\longleftarrow}$    500     $\\mathbf{nm}$$\\mathbf{\\longrightarrow}$', xy=(0.5, 0.5), xytext=(-0.05, 0.5), rotation=90, color='k', xycoords='axes fraction', textcoords='axes fraction', fontsize = 45, weight = 'bold', ha='center', va='center')\n",
    "  # ax1.annotate(r'$\\leftarrow$500 $\\mathbf{nm}$$\\rightarrow$', xy=(0.5, 0.5), xytext=(0.5, -0.1), rotation=0, color='k', xycoords='axes fraction', textcoords='axes fraction', fontsize = 45, weight = 'bold', ha='center', va='center')\n",
    "  ax1.set_ylim(0, 500)    \n",
    "  ax1.set_xlim(0, 500)\n",
    "  \n",
    "  ###############################################\n",
    "  # ax2.tick_params(axis='both', labelcolor='black', labelsize=65, bottom=False, top=False, left=False, right=False, labelbottom=False, labelleft=False)\n",
    "  ax2.plot(comp_uni[225,:,t_step], color='red', linestyle='--', linewidth=8, label=r'c$\\mathbf{_{Cu}}$')\n",
    "  ax2.set_ylim(-0.05, 1.05)    \n",
    "  ax2.set_xlim(-20, 520)\n",
    "  ax2.set_yticks([0, 0.25, 0.5, 0.75, 1], labels=['0.00', '0.25', '0.50', '0.75', '1.00'], size=30, color='k', weight='bold')\n",
    "  ax2.set_xticks([0, 125, 250, 375, 500], labels=['0', '125', '250', '375', '500'], size=30, color='k', weight='bold')\n",
    "  \n",
    "  ax2.set_xlabel(r'x | y  [nm]$\\mathbf{\\longrightarrow}$ ', fontsize = 45, weight ='bold', color='k')\n",
    "  ax2.set_ylabel(r'C$\\mathbf{_{Cu} \\longrightarrow}$', fontsize = 65, weight ='bold', color='k')\n",
    "  ax2.grid(alpha=0.2)\n",
    "  ax2.legend(loc=(0.01, 0.8), ncol=1,  columnspacing=1.0, prop={'weight':'bold', 'size':'30',}, \n",
    "             handletextpad=0.5, handlelength=1.0,   frameon=True)#.get_frame().set_facecolor('none')\n",
    "  ###################################\n",
    "  ax3=ax2.twinx()\n",
    "  ax3.set_yticks([0, 0.25, 0.5, 0.75, 1], labels=['0.00', '0.25', '0.50', '0.75', '1.00'], size=30, color='k', weight='bold')\n",
    "  ax3.set_ylabel(r'$\\mathbf{\\eta_{1} \\longrightarrow}$', fontsize = 65, weight ='bold', color='k')\n",
    "  ax3.set_ylim(-0.05, 1.05)    \n",
    "  eta1 = Ti[:,255,t_step]\n",
    "  eta1[:][eta1[:] < 0], eta1[:][eta1[:] > 1] = 0, 1\n",
    "  ax3.plot(eta1[:], color='lime', linestyle='--', marker='o',  linewidth=8, label=r'$\\mathbf{\\eta_1}$')\n",
    "  ax3.legend(loc=(0.80, 0.80), ncol=1,  columnspacing=1.0, prop={'weight':'bold', 'size':'30',}, \n",
    "             handletextpad=0.5, handlelength=1.0,   frameon=True)#.get_frame().set_facecolor('none')\n",
    "  # ax3.set_xlabel(r'y  [nm]$\\mathbf{\\longrightarrow}$ ', loc='top', fontsize = 45, weight ='bold', color='k')\n",
    "  \n",
    "  # ax2.set_xlabel('X-axis Label', position=(0.5, 1.02), ha='center', va='bottom')\n",
    "  \n",
    "  ax3.tick_params(axis='x', which='both', bottom=False, top=True)\n",
    "  # ax3.set_xticks([0, 125, 250, 375, 500], labels=['0', '125', '250', '375', '500'], size=30, color='k', weight='bold')\n",
    "  \n",
    "  \n",
    "  \n",
    "  \n",
    "  \n",
    "  \n",
    "  \n",
    "  \n",
    "  fig.text(0.38, 0.52, '- - - - - - - - - - - - - - - - - - - - - ', ha='center', va='center', fontsize=40, rotation=90, color='k')\n",
    "  plt.tight_layout()\n",
    "  plt.savefig(f'figures/comp_eta/jpg/Ti2Cu_t{time_ms[t_step]:.0f}ms.jpg')\n",
    "  plt.savefig(f'figures/comp_eta/Ti2Cu_t{time_ms[t_step]:.0f}ms.png', format='png', dpi=800)\n",
    "  print(f'{time_ms[t_step]:.0f}ms')\n",
    "  plt.close()\n",
    "  # plt.show()\n"
   ]
  },
  {
   "cell_type": "code",
   "execution_count": null,
   "id": "dd641b37-fff4-46ca-a760-15184112d443",
   "metadata": {},
   "outputs": [],
   "source": []
  },
  {
   "cell_type": "markdown",
   "id": "039dbf2f-c592-4a3e-83fd-2e658146819d",
   "metadata": {
    "jp-MarkdownHeadingCollapsed": true
   },
   "source": [
    "## Area Plot"
   ]
  },
  {
   "cell_type": "code",
   "execution_count": null,
   "id": "ebb21c6b-61c1-45c5-9317-63ce40b8e4d4",
   "metadata": {},
   "outputs": [],
   "source": [
    "area_df1.tail()"
   ]
  },
  {
   "cell_type": "code",
   "execution_count": null,
   "id": "cdc2202a-17d7-4af4-b1e3-18e0deeb433f",
   "metadata": {},
   "outputs": [],
   "source": [
    "min(area_df1['area_total'])"
   ]
  },
  {
   "cell_type": "code",
   "execution_count": null,
   "id": "00382216-407e-4d10-a505-3229c0ab4663",
   "metadata": {},
   "outputs": [],
   "source": [
    "area_df1['real_time_(ms)'][-1:]"
   ]
  },
  {
   "cell_type": "code",
   "execution_count": null,
   "id": "50915cbe-8af7-4e08-8191-25cc2cad7b55",
   "metadata": {},
   "outputs": [],
   "source": [
    "t_step = real_time.shape[0]\n",
    "fig, ax1 = plt.subplots(1, 1, figsize=[12, 8]) #figsize=[8, 10])\n",
    "hmap_total = ax1.plot(real_time[:t_step], area_df1['area_total'][:t_step], color='teal', label=r'Total Area', linestyle='-', linewidth=8)\n",
    "hmap_IMC = ax1.plot(real_time[:t_step], area_df1['area_IMC_total'][:t_step], color='orange', label=r'IMC', linewidth=8)\n",
    "# hmap_HCP = ax1.plot(real_time[:t_step], area_df1['area_h1'][:t_step], color='blue', label=r'HCP', linewidth=8)\n",
    "# legend_1 = ax1.legend( loc=(0.7,0.8), prop={'weight':'bold', 'size':'18',}, handlelength=1.0, handletextpad=1.0, frameon=True)\n",
    "ax1.legend(loc=(0.05, 0.64), ncol=1,  columnspacing=1.0, prop={'weight':'bold', 'size':'35',},  handletextpad=0.5, handlelength=2.0,   frameon=True)#\n",
    "\n",
    "ax1.set_xlabel(r\"t [ms] $\\mathbf{\\longrightarrow}$\", weight = 'bold', size=45, color='k')\n",
    "ax1.set_ylabel(r\"Area [nm$\\mathbf{^2}$] $\\mathbf{\\longrightarrow}$\", weight = 'bold', size=45, color='k')\n",
    "ax1.get_yaxis().get_offset_text().set_position((-0.01, 0))\n",
    "\n",
    "ax1.set_yticks([0, 1.25e5, 2.5e5], labels=[ '0.0', '1.25', '2.5'], size=35, color='k', rotation=0,  weight='bold')\n",
    "ax1.set_title(r'$\\mathbf{\\times}$10$\\mathbf{^{5}}$', pad=0, loc='left', color='black', fontsize=35, weight='bold')\n",
    "ax1.set_xticks([0, 1250, 2500, 3750, 5000], labels=['0', '1250', '2500', '3750', '5000'], size=30, color='k', weight='bold')\n",
    "\n",
    "ax1.set_ylim(-0.1e5, 2.6e5)\n",
    "ax1.set_xlim(-200, 5400)\n",
    "ax1.tick_params(axis='y', direction='inout', which='both', length=15, width=5)\n",
    "ax1.tick_params(axis='x', direction='inout', which='both', length=5, width=5)\n",
    "\n",
    "# ax1.hlines(y=0, xmin=-150, xmax=5400, linestyle='-', linewidth=1, color='k')\n",
    "\n",
    "ax1.plot(3750, 2.43e5, marker='^', color='green', markersize=15)\n",
    "ax1.plot(3750, 1.08e5, marker='v', color='green', markersize=15)\n",
    "ax1.vlines(x=3750, ymin=1.1e5, ymax=2.4e5, linewidth=5.5, linestyle='--', color='green')\n",
    "ax1.text(x=3500, y = 1.35e5, s=r'Area HCP', rotation=90, fontsize=30, weight='bold', color='green')\n",
    "\n",
    "\n",
    "ax1.plot(3750, 0.92e5, marker='^', color='orangered', markersize=15)\n",
    "ax1.plot(3750, 5000, marker='v', color='orangered', markersize=15)\n",
    "ax1.vlines(x=3750, ymin=8000, ymax=0.91e5, linewidth=5.5, linestyle='--', color='orangered')\n",
    "ax1.text(x=3800, y = 0.08e5, s=r'Area IMC', rotation=270, fontsize=30, weight='bold', color='orangered')\n",
    "\n",
    "ax1.grid()\n",
    "plt.tight_layout()\n",
    "# plt.savefig('figures/free_energy_N_area_evolve/jpg/area.jpg',bbox_inches='tight')\n",
    "# plt.savefig('figures/free_energy_N_area_evolve/area.png',bbox_inches='tight', transparent=True, dpi=800)\n",
    "plt.show()"
   ]
  },
  {
   "cell_type": "code",
   "execution_count": null,
   "id": "f827217a-beb7-4e2f-8c9a-61d8bd7bb19d",
   "metadata": {},
   "outputs": [],
   "source": []
  },
  {
   "cell_type": "markdown",
   "id": "f06f60fc-8359-4492-99c3-da2d4292271e",
   "metadata": {
    "jp-MarkdownHeadingCollapsed": true
   },
   "source": [
    "# Free Energy"
   ]
  },
  {
   "cell_type": "code",
   "execution_count": null,
   "id": "56b4db52-8b6f-4eed-9c9b-2f47844e2a37",
   "metadata": {},
   "outputs": [],
   "source": [
    "##In case jupyter cannot find module that is otherwise found in terminal\n",
    "## pip3 install ipykernel --upgrade\n",
    "## python3 -m ipykernel install --user\n",
    "##https://stackoverflow.com/questions/50914761/jupyter-notebook-cant-find-modules-for-python-3-6\n",
    "%matplotlib inline\n",
    "import matplotlib.pyplot as plt\n",
    "from pycalphad import Database,equilibrium, calculate, variables as v\n",
    "from pycalphad.plot.utils import phase_legend\n",
    "import numpy as np\n",
    "import pandas as pd \n",
    "#Page 182 http://www.fizika.unios.hr/rf/wp-content/uploads/sites/67/2011/02/CPwP.pdf\n",
    "#%matplotlib inline\n",
    "#import pandas as pd\n",
    "import scipy\n",
    "#import matplotlib.pyplot as plt\n",
    "from scipy.optimize import curve_fit\n",
    "from scipy.optimize import differential_evolution\n",
    "import warnings\n",
    "# plt.rcParams[\"figure.figsize\"]=(12, 10)"
   ]
  },
  {
   "cell_type": "code",
   "execution_count": null,
   "id": "75ff8897-1084-4cb2-84ab-6d00c054d313",
   "metadata": {},
   "outputs": [],
   "source": [
    "dbf = Database('CuTi_database.TDB')\n",
    "comps = ['CU', 'TI', 'VA']\n",
    "phases = ['FCC_A1']\n",
    "\n",
    "calc_result = calculate(dbf, comps, phases, P=101325, T=[1250])    ### T = 1525.15  https://aip.scitation.org/doi/abs/10.1063/1.89819 , Singhal et. al. \n",
    "print(calc_result)\n",
    "varT=\"1150\""
   ]
  },
  {
   "cell_type": "code",
   "execution_count": null,
   "id": "fe7d0c58-af52-4efa-8b0f-1e445c956f82",
   "metadata": {},
   "outputs": [],
   "source": [
    "#print(calc_result.X.values)\n",
    "# composition in mole fraction \n",
    "xcomp = calc_result.X.values\n",
    "\n",
    "print(xcomp)"
   ]
  },
  {
   "cell_type": "code",
   "execution_count": null,
   "id": "c3c5c666-e23e-4d62-8c17-50730d340db7",
   "metadata": {},
   "outputs": [],
   "source": [
    "xcomp.shape"
   ]
  },
  {
   "cell_type": "code",
   "execution_count": null,
   "id": "973e8e57-1475-40d6-ad0f-ae2544050fb4",
   "metadata": {},
   "outputs": [],
   "source": [
    "xcompr=np.reshape(xcomp,(4002,2))\n",
    "xcompr.shape"
   ]
  },
  {
   "cell_type": "code",
   "execution_count": null,
   "id": "797f75a6-f35e-4a53-8b27-b7a828ad39e8",
   "metadata": {},
   "outputs": [],
   "source": [
    "dfx_comp = pd.DataFrame(xcompr, columns = ['x_Cu','x_Ti'])\n",
    "dfx_comp.head()"
   ]
  },
  {
   "cell_type": "code",
   "execution_count": null,
   "id": "05e4cce6-fbea-40e5-9f40-22fc895971ed",
   "metadata": {},
   "outputs": [],
   "source": [
    "gibbs = calc_result.GM.values\n",
    "\n",
    "print(gibbs, gibbs.shape)\n",
    "\n",
    "gibbsr=np.reshape(gibbs,(4002))\n",
    "\n",
    "print(gibbsr)"
   ]
  },
  {
   "cell_type": "code",
   "execution_count": null,
   "id": "e10dd48f-3c62-4a60-934a-a2abe70b64a1",
   "metadata": {},
   "outputs": [],
   "source": [
    "df_gibbs = pd.DataFrame(gibbsr, columns = ['G_FCC_A1'])\n",
    "df_gibbs.head()"
   ]
  },
  {
   "cell_type": "code",
   "execution_count": null,
   "id": "8ab83b7e-1af3-48be-9cf5-40aed613e0fe",
   "metadata": {},
   "outputs": [],
   "source": [
    "min( df_gibbs['G_FCC_A1'])"
   ]
  },
  {
   "cell_type": "code",
   "execution_count": null,
   "id": "6d08f29a-5a23-4df8-aaf5-39983e22a9fe",
   "metadata": {},
   "outputs": [],
   "source": [
    "df1=dfx_comp\n",
    "df1[\"G_FCC_A1\"]=df_gibbs[\"G_FCC_A1\"]\n",
    "df1.head()\n",
    "\n",
    "# df2=df1.loc[df1['xau'] < 0.15]\n",
    "\n",
    "df2 = df1\n",
    "\n",
    "df2.head()"
   ]
  },
  {
   "cell_type": "code",
   "execution_count": null,
   "id": "606977ce-6711-40a2-9fce-a6cd5a9c21f3",
   "metadata": {},
   "outputs": [],
   "source": [
    "plt.plot(df2['x_Cu'], df2['G_FCC_A1'])\n",
    "plt.vlines(x=0.33, ymin=-70000, ymax=-50000, linestyle='--', color='red', linewidth=3)\n",
    "plt.vlines(x=0.67, ymin=-70000, ymax=-50000, linestyle='--', color='green', linewidth=3)"
   ]
  },
  {
   "cell_type": "markdown",
   "id": "096d4185-576b-4cb9-b118-e6372d7c8712",
   "metadata": {},
   "source": [
    "#### CuTi$_2$"
   ]
  },
  {
   "cell_type": "code",
   "execution_count": null,
   "id": "a3514eb8-2942-49a4-8d71-6c98e5961fd9",
   "metadata": {},
   "outputs": [],
   "source": [
    "df2[(df2['x_Cu'] >= 0.329) & (df2['x_Cu'] <=  0.331)]"
   ]
  },
  {
   "cell_type": "code",
   "execution_count": null,
   "id": "cbfa6e68-b6bd-4c64-bdd2-0ef9683ab651",
   "metadata": {},
   "outputs": [],
   "source": [
    "df2['x_Cu'][163]"
   ]
  },
  {
   "cell_type": "code",
   "execution_count": null,
   "id": "bd42b6db-6090-4772-a8de-8a1a1b4ff1c6",
   "metadata": {},
   "outputs": [],
   "source": [
    "df2[df2['x_Cu'] == 0.3301650825412741]"
   ]
  },
  {
   "cell_type": "code",
   "execution_count": null,
   "id": "eaa739f6-ae10-43ce-afa8-4a81bbf58efb",
   "metadata": {},
   "outputs": [],
   "source": [
    "df2[df2['x_Cu'] == 0.08054027013507593]"
   ]
  },
  {
   "cell_type": "code",
   "execution_count": 2,
   "id": "58a28079-1f5d-4091-8f36-67b7daeb8ba2",
   "metadata": {},
   "outputs": [
    {
     "data": {
      "image/png": "[encoded data removed]",
      "text/plain": [
       "<Figure size 1200x600 with 1 Axes>"
      ]
     },
     "metadata": {},
     "output_type": "display_data"
    }
   ],
   "source": [
    "X = np.arange(0.0, 1.0, 0.001) #Changes the equation to  whole range\n",
    "\n",
    "A1, B1, C1, D1, x1e, Th1 = -3.1, -2.5, 3.6, 3.7, 0.7015, -14950.7 ## Ti rich\n",
    "A2, B2, C2, D2, x2e, Th2 = -295,   -2.5, 3.6, 3.7, 1.22526, -19006 ## IMC\n",
    "\n",
    "G_FCC1= Th1*(A1*(D1*X - x1e)**2 + B1*(D1*X - x1e) + C1)\n",
    "G_FCC2= Th2*(A2*(D2*X - x2e)**2 + B2*(D2*X - x2e) + C2)\n",
    "\n",
    "plt.rcParams[\"figure.figsize\"]=(12, 6)\n",
    "plt.plot(X, G_FCC2, color='green', linewidth=3, label=r\"$CuTi_2$\")\n",
    "\n",
    "plt.plot(X, G_FCC1, color='red', linewidth=3, label=\"Ti-rich\")\n",
    "plt.legend(loc=4, prop={'size': 15})\n",
    "plt.grid()\n",
    "plt.title(\"Gibbs free energy\",fontsize=20, pad= 35)\n",
    "\n",
    "plt.text(0.01,-67000,r'$G_{min}$'+f': {min(G_FCC1):.0f} J/mol', fontsize=15)\n",
    "plt.scatter(x=0.08, y=int(f'{min(G_FCC1):.0f}'), marker='x', s=200, color='b')\n",
    "\n",
    "plt.text(0.35,-70000,r'$G_{min}$'+f': {min(G_FCC2):.0f} J/mol', fontsize=15)\n",
    "plt.scatter(x=0.33, y=int(f'{min(G_FCC2):.0f}'), marker='*', s=200, color='k')\n",
    "\n",
    "plt.xticks(fontsize=20)\n",
    "plt.xlabel(\"c(Cu)\",fontsize=25)\n",
    "plt.yticks(fontsize=20)\n",
    "plt.ylabel(\"G (J/mol)\",fontsize=25)\n",
    "plt.xlim(0,1)\n",
    "plt.ylim(-75000,0)\n",
    "\n",
    "plt.show()"
   ]
  },
  {
   "cell_type": "code",
   "execution_count": 3,
   "id": "d98b3d51-46db-425f-99e6-9020ed76f5f5",
   "metadata": {},
   "outputs": [
    {
     "data": {
      "image/png": "[encoded data removed]",
      "text/plain": [
       "<Figure size 1200x800 with 1 Axes>"
      ]
     },
     "metadata": {},
     "output_type": "display_data"
    }
   ],
   "source": [
    "X = np.arange(0.0, 1.0, 0.001) #Changes the equation to  whole range\n",
    "\n",
    "A1, B1, C1, D1, x1e, Th1 = -3.1, -2.5, 3.6, 3.7, 0.7015, -14950.7 ## Ti rich\n",
    "A2, B2, C2, D2, x2e, Th2 = -295,   -2.5, 3.6, 3.7, 1.22526, -19006 ## IMC\n",
    "\n",
    "G_FCC1= Th1*(A1*(D1*X - x1e)**2 + B1*(D1*X - x1e) + C1)\n",
    "G_FCC2= Th2*(A2*(D2*X - x2e)**2 + B2*(D2*X - x2e) + C2)\n",
    "\n",
    "fig, ax1 = plt.subplots(1,1, figsize=(12,8), frameon=True)\n",
    "plt.subplots_adjust(left=None, bottom=None, right=None, top=None, wspace=0.1, hspace=0.3)\n",
    "ax1.grid(alpha=0.5)\n",
    "\n",
    "point1 = [X[np.argmin(G_FCC1)], min(G_FCC1)]\n",
    "point2 = [X[np.argmin(G_FCC2)], min(G_FCC2)]\n",
    "x_values = [point1[0], point2[0]]\n",
    "y_values = [point1[1]-500, point2[1]-500]\n",
    "\n",
    "label1 = [r\"$\\mathbf{Ti_2Cu}$\", r\"IMC\"]\n",
    "label2 = [r\"Ti-rich\", r\"HCP\"]\n",
    "\n",
    "ax1.plot(X, G_FCC2, color='green', linewidth=10, label=label1[1])\n",
    "ax1.plot(X, G_FCC1, color='red', linewidth=10, label=label2[1])\n",
    "ax1.plot(x_values, y_values,  linestyle=\"--\", linewidth=6, markersize=20, color='m')\n",
    "\n",
    "# ax1.text(point1[0]*0.8, point1[1]*1.15, \"A\", fontsize=30, color='k', weight='bold')\n",
    "# ax1.text(point2[0]*0.95, point2[1]*1.12, \"B\", fontsize=30, color='k', weight='bold')\n",
    "\n",
    "\n",
    "\n",
    "ax1.plot(0.08, int(f'{min(G_FCC1):.0f}'), marker='X', color='k', markersize=15, markeredgecolor='k', markerfacecolor='k')\n",
    "ax1.plot(0.33, int(f'{min(G_FCC2):.0f}'), marker='*', color='k', markersize=15, markeredgecolor='k', markerfacecolor='k')\n",
    "\n",
    "ax1.annotate(r'$\\mathbf{G_{min}:}$ '+f'{min(G_FCC1)/1000:.1f}', horizontalalignment='center',\n",
    "             xy = (0.08, -60000), xytext = (0.13, -30000), bbox=dict(boxstyle=\"round\", fc=\"w\",), arrowprops=dict(arrowstyle='Fancy', color='teal', fc='teal', connectionstyle='arc3, rad=0.2'), fontsize=30, color='red')\n",
    "\n",
    "ax1.annotate(r'$\\mathbf{G_{min}:}$ '+f'{min(G_FCC2)/1000:.1f}', horizontalalignment='center',\n",
    "             xy = (0.34, -68900), xytext = (0.55, -45000), bbox=dict(boxstyle=\"round\", fc=\"w\",), arrowprops=dict(arrowstyle='Fancy', color='darkorange', fc='darkorange', connectionstyle='arc3, rad=-0.2'), fontsize=30, color='green')\n",
    "\n",
    "\n",
    "ax1.vlines(x=point1[0], ymin=-85000, ymax=-62000, linestyle = ':', color='r')\n",
    "ax1.vlines(x=point2[0], ymin=-85000, ymax=-69000, linestyle = ':', color='g')\n",
    "ax1.text(x=point1[0]-0.025, y=-83000, s=f'{point1[0]:.2f}', fontsize=18, weight='bold', color='red')\n",
    "ax1.text(x=point2[0]-0.025, y=-83000, s=f'{point2[0]:.2f}', fontsize=18, weight='bold', color='green')\n",
    "\n",
    "ax1.legend(loc=(0.65, 0.64), ncol=1,  columnspacing=1.0, prop={'weight':'bold', 'size':'35',},  handletextpad=0.5, handlelength=1.0,   frameon=True)#\n",
    "\n",
    "ax1.set_xlim(-0.025,1.025)\n",
    "ax1.set_ylim(-80000,5000)\n",
    "ax1.set_xlabel(r\"c$\\mathbf{_{Cu}}$    $\\mathbf{\\longrightarrow}$\", color='k', weight='bold',  fontsize=45)\n",
    "ax1.set_ylabel(r\"$\\mathbf{\\longleftarrow}$ G (kJ/mol)\", color='k', weight='bold',  fontsize=45)\n",
    "ax1.set_title(\"T = 1250 K\", fontsize=40, pad= 0, weight='bold')\n",
    "ax1.set_xticks([0, 0.25, 0.5, 0.75, 1.0], labels=['0.0', '0.25', '0.5', '0.75', '1.0'], size=27, color='k', weight='bold')\n",
    "ax1.set_yticks([0, -25000, -50000, -75000,], labels=['0', '-25', '-50', '-75',], size=27, color='k', weight='bold')\n",
    "# ax1.set_title(\"Gibbs free energy\",fontsize=40, pad= 35, weight='bold')\n",
    "\n",
    "ax1.plot(point1[0], -78500, marker='v', color='red', markersize=10)\n",
    "ax1.plot(point2[0], -78500, marker='v', color='green', markersize=10)\n",
    "\n",
    "plt.tight_layout()\n",
    "\n",
    "# plt.savefig('figures/free_energy_N_area_evolve/jpg/free_energy.jpg',bbox_inches='tight')\n",
    "# plt.savefig('figures/free_energy_N_area_evolve/free_energy.png',bbox_inches='tight', transparent=True, dpi=800)\n",
    "\n",
    "plt.show()"
   ]
  },
  {
   "cell_type": "code",
   "execution_count": null,
   "id": "95817699-8344-4f2c-bcef-ae2471963105",
   "metadata": {},
   "outputs": [],
   "source": []
  },
  {
   "cell_type": "code",
   "execution_count": null,
   "id": "bd8526e5-9dc0-43f7-bd18-e4d16f2c4df1",
   "metadata": {},
   "outputs": [],
   "source": []
  },
  {
   "cell_type": "code",
   "execution_count": null,
   "id": "ceaec5b2-b2c2-4ec4-8241-a4591b360a4f",
   "metadata": {},
   "outputs": [],
   "source": [
    "Th2*A2*D2**2, Th2*B2*D2,   Th2*C2, x2e/D2"
   ]
  },
  {
   "cell_type": "markdown",
   "id": "0be46a10-da8d-49ec-863d-5fd18a38d6b9",
   "metadata": {},
   "source": [
    "# Equivalent c$_{ij}$"
   ]
  },
  {
   "cell_type": "code",
   "execution_count": 1,
   "id": "68e693d8-971c-492f-b8c6-a6508122be5b",
   "metadata": {},
   "outputs": [],
   "source": [
    "import numpy as np\n",
    "import sympy as sym\n",
    "from sympy import symbols, I, expand, Poly, simplify\n",
    "import matplotlib.pyplot as plt\n",
    "\n",
    "from IPython.display import display\n",
    "from __future__ import print_function\n",
    "from ipywidgets import interact, interactive, fixed, interact_manual\n",
    "import ipywidgets as widgets"
   ]
  },
  {
   "cell_type": "code",
   "execution_count": 2,
   "id": "4bdaeaac-b0df-4c85-901a-72b9636da956",
   "metadata": {},
   "outputs": [],
   "source": [
    "A0 = 634492.7573\n",
    "B0 = 138293.975\n",
    "C0 = -53822.52\n",
    "x01 = 0.1896\n",
    "x02 = 0.1896\n",
    "\n",
    "A1 = 76756681.3\n",
    "B1 = 175805.5\n",
    "C1 = -68421.6\n",
    "x11 = 0.3312\n",
    "x12 = 0.3312"
   ]
  },
  {
   "cell_type": "code",
   "execution_count": 14,
   "id": "5cdb2ca7-f77f-4b1f-8812-5873695a61c0",
   "metadata": {},
   "outputs": [],
   "source": [
    "A0 = widgets.FloatSlider(description='A0:',  value=634492.7573, min=500000, max=750000, step=1000, continuous_update=True, orientation='horizontal', readout_format='.3f',  readout=True,disabled=False)\n",
    "B0 = widgets.FloatSlider(description='B0:',  value=138293.975, min=100000, max=150000, step=1000, continuous_update=True, orientation='horizontal', readout_format='.3f',  readout=True,disabled=False)\n",
    "C0 = widgets.FloatSlider(description='C0:',  value=-53822.52, min=-60000, max=-40000, step=1000, continuous_update=True, orientation='horizontal', readout_format='.3f',  readout=True,disabled=False)\n",
    "x01 = widgets.FloatSlider(description='x01:',value=0.1896, min=0, max=1,  step=0.0001, continuous_update=True, orientation='horizontal', readout_format='.3f',  readout=True,disabled=False)\n",
    "x02 = widgets.FloatSlider(description='x02:',value=0.1896, min=0, max=1,  step=0.0001, continuous_update=True, orientation='horizontal', readout_format='.3f',  readout=True,disabled=False)\n",
    "\n",
    "A1 = widgets.FloatSlider(description='A1:',  value=76756681.3, min=70000000, max=80000000, step=1000, continuous_update=True, orientation='horizontal', readout_format='.3f',  readout=True,disabled=False)\n",
    "B1 = widgets.FloatSlider(description='B1:',  value=175805.5, min=100000, max=200000, step=1000, continuous_update=True, orientation='horizontal', readout_format='.3f',  readout=True,disabled=False)\n",
    "C1 = widgets.FloatSlider(description='C1:',  value=-68421.6, min=-75000, max=-60000, step=1000, continuous_update=True, orientation='horizontal', readout_format='.3f',  readout=True,disabled=False)\n",
    "x11 = widgets.FloatSlider(description='x11:',value=0.3312, min=0, max=1,  step=0.0001,   continuous_update=True, orientation='horizontal', readout_format='.3f',  readout=True,disabled=False)\n",
    "x12 = widgets.FloatSlider(description='x12:',value=0.3312, min=0, max=1,  step=0.0001,  continuous_update=True, orientation='horizontal', readout_format='.3f',  readout=True,disabled=False)\n",
    "\n",
    "\n",
    "ui0 = widgets.HBox([A0, B0, C0, x01, x02])\n",
    "ui1 = widgets.HBox([A1, B1, C1, x11, x12])\n",
    "\n",
    "\n",
    "def Parabola(A0, B0, C0, x01, x02, A1, B1, C1, x11, x12, xeq1, yeq1, xeq2, yeq2):\n",
    "    X = np.linspace(0, 1, 1000)\n",
    "    y0 = A0*(X-x01)**2 + B0*(X-x02) + C0\n",
    "    y1 = A1*(X-x11)**2 + B1*(X-x12) + C1\n",
    "\n",
    "    fig, ax1 = plt.subplots(1,1, figsize=(12,8), frameon=True)\n",
    "    plt.subplots_adjust(left=None, bottom=None, right=None, top=None, wspace=0.1, hspace=0.3)\n",
    "    ax1.grid(alpha=0.5)\n",
    "    \n",
    "    point1 = [X[np.argmin(y0)], min(y0)]\n",
    "    point2 = [X[np.argmin(y1)], min(y1)]\n",
    "    # point1 = [xeq1, yeq1]\n",
    "    # point2 = [xeq2, yeq2]\n",
    "    x_values = [point1[0], point2[0]]\n",
    "    y_values = [point1[1]-500, point2[1]-500]\n",
    "    \n",
    "    label1 = [r\"$\\mathbf{Ti_2Cu}$\", r\"IMC\"]\n",
    "    label2 = [r\"Ti-rich\", r\"HCP\"]\n",
    "    \n",
    "    ax1.plot(X, y1, color='green', linewidth=10, label=label1[1])\n",
    "    ax1.plot(X, y0, color='red', linewidth=10, label=label2[1])\n",
    "    ax1.plot(x_values, y_values,  linestyle=\"--\", linewidth=6, markersize=20, color='m')\n",
    "    \n",
    "    # ax1.plot([xeq1, xeq2], [yeq1, yeq2],  linestyle=\"--\", linewidth=6, markersize=20, color='m')\n",
    "    \n",
    "    ax1.text(point1[0]*0.8, point1[1]*1.15, \"A\", fontsize=30, color='k', weight='bold')\n",
    "    ax1.text(point2[0]*0.95, point2[1]*1.12, \"B\", fontsize=30, color='k', weight='bold')\n",
    "    \n",
    "    \n",
    "\n",
    "    ax1.plot(x_values[0], int(f'{min(y0):.0f}'), marker='X', color='k', markersize=15, markeredgecolor='k', markerfacecolor='k')\n",
    "    ax1.plot(x_values[1], int(f'{min(y1):.0f}'), marker='*', color='k', markersize=15, markeredgecolor='k', markerfacecolor='k')\n",
    "    \n",
    "    ax1.annotate(r'$\\mathbf{G_{min}:}$ '+f'{min(y0)/1000:.1f}', horizontalalignment='center',\n",
    "                 xy = (x_values[0], min(y0)+1000), xytext = (0.13, -30000), bbox=dict(boxstyle=\"round\", fc=\"w\",), arrowprops=dict(arrowstyle='Fancy', color='teal', fc='teal', connectionstyle='arc3, rad=0.2'), fontsize=30, color='red')\n",
    "    \n",
    "    ax1.annotate(r'$\\mathbf{G_{min}:}$ '+f'{min(y1)/1000:.1f}', horizontalalignment='center',\n",
    "                 xy = (x_values[1]+0.012, min(y1)+500), xytext = (0.65, -45000), bbox=dict(boxstyle=\"round\", fc=\"w\",), arrowprops=dict(arrowstyle='Fancy', color='darkorange', fc='darkorange', connectionstyle='arc3, rad=-0.2'), fontsize=30, color='green')\n",
    "    \n",
    "    \n",
    "    ax1.vlines(x=point1[0], ymin=-85000, ymax=min(y0)-500, linestyle = ':', color='r')\n",
    "    ax1.vlines(x=point2[0], ymin=-85000, ymax=min(y1)-500, linestyle = ':', color='g')\n",
    "    ax1.text(x=point1[0]-0.025, y=-83000, s=f'{point1[0]:.2f}', fontsize=18, weight='bold', color='red')\n",
    "    ax1.text(x=point2[0]-0.025, y=-83000, s=f'{point2[0]:.2f}', fontsize=18, weight='bold', color='green')\n",
    "    \n",
    "    ax1.legend(loc=(0.65, 0.64), ncol=1,  columnspacing=1.0, prop={'weight':'bold', 'size':'35',},  handletextpad=0.5, handlelength=1.0,   frameon=True)#\n",
    "    \n",
    "    ax1.set_xlim(-0.025,1.025)\n",
    "    ax1.set_ylim(-80000,5000)\n",
    "    ax1.set_xlabel(r\"c$\\mathbf{_{Cu}}$    $\\mathbf{\\longrightarrow}$\", color='k', weight='bold',  fontsize=45)\n",
    "    ax1.set_ylabel(r\"$\\mathbf{\\longleftarrow}$ G (kJ/mol)\", color='k', weight='bold',  fontsize=45)\n",
    "    ax1.set_title(\"T = 1250 K\", fontsize=40, pad= 0, weight='bold')\n",
    "    ax1.set_xticks([0, 0.25, 0.5, 0.75, 1.0], labels=['0.0', '0.25', '0.5', '0.75', '1.0'], size=27, color='k', weight='bold')\n",
    "    ax1.set_yticks([0, -25000, -50000, -75000,], labels=['0', '-25', '-50', '-75',], size=27, color='k', weight='bold')\n",
    "    \n",
    "    ax1.plot(point1[0], -78500, marker='v', color='red', markersize=10)\n",
    "    ax1.plot(point2[0], -78500, marker='v', color='green', markersize=10)\n",
    "    \n",
    "    plt.tight_layout()\n",
    "    plt.show()\n",
    "    \n",
    "    return()"
   ]
  },
  {
   "cell_type": "code",
   "execution_count": 4,
   "id": "fc5d093a-e0c4-4808-a71b-2311a7e0cc38",
   "metadata": {},
   "outputs": [
    {
     "data": {
      "text/latex": [
       "$\\displaystyle y = 634492.7573 x^{2} - 102305.67856816 x - 57234.2105017384$"
      ],
      "text/plain": [
       "Eq(y, 634492.7573*x**2 - 102305.67856816*x - 57234.2105017384)"
      ]
     },
     "metadata": {},
     "output_type": "display_data"
    },
    {
     "data": {
      "text/latex": [
       "$\\displaystyle y = 76756681.3 x^{2} - 50667820.19312 x + 8293056.03318067$"
      ],
      "text/plain": [
       "Eq(y, 76756681.3*x**2 - 50667820.19312*x + 8293056.03318067)"
      ]
     },
     "metadata": {},
     "output_type": "display_data"
    }
   ],
   "source": [
    "x, y, m, c  = symbols('x, y, m, c') \n",
    "\n",
    "L = m * x + c   ### It is the common tangent between 2 parabolas whose eqn is to find\n",
    "\n",
    "P0 = expand(A0.value*(x-x01.value)**2 + B0.value*(x-x02.value) + C0.value)  # First Parabola in Ax^2 + Bx + C form\n",
    "P1 = expand(A1.value*(x-x11.value)**2 + B1.value*(x-x12.value) + C1.value)  # Second Parabola  in Ax^2 + Bx + C form\n",
    "\n",
    "eq0 = sym.Eq(y, P0)  #eq0 ==> Equation 0 i.e. First Parabola in format y = Ax^2 + Bx + C\n",
    "eq1 = sym.Eq(y, P1)  #eq1 ==> Equation 1 i.e. Second Parabola in format y = Ax^2 + Bx + C\n",
    "\n",
    "display(eq0, eq1) \n",
    "\n",
    "coeffs0 = Poly(P0, x).coeffs()  # Coefficients of First Parabola P0 \n",
    "coeffs1 = Poly(P1, x).coeffs()  # Coefficients of Second Parabola P1  \n",
    "\n",
    "a0, b0, c0 =  coeffs0[0], coeffs0[1], coeffs0[2]   # First Parabola's coefficients a0 ==> A, b0 ==> B, c0 ==>c\n",
    "a1, b1, c1 =  coeffs1[0], coeffs1[1], coeffs1[2]"
   ]
  },
  {
   "cell_type": "code",
   "execution_count": 5,
   "id": "b91a30d8-4b05-4637-af61-9cb89d741b15",
   "metadata": {},
   "outputs": [],
   "source": [
    "## This function returns the equation of discriminant i.e. beta^2 - 4 * alpha * gamma as in above\n",
    "\n",
    "def calculate(A,B,C):\n",
    "    m, c = symbols('m, c') \n",
    "    alpha = A\n",
    "    beta  = B - m\n",
    "    gamma = C - c\n",
    "    discriminant = beta**2 - 4* alpha * gamma\n",
    "    equation = sym.Eq(discriminant,0)\n",
    "    return equation"
   ]
  },
  {
   "cell_type": "code",
   "execution_count": 6,
   "id": "88248084-98db-4836-86ef-daa847776938",
   "metadata": {},
   "outputs": [
    {
     "data": {
      "text/latex": [
       "$\\displaystyle 2537971.0292 c + 10466451867.2917 \\left(- 9.77462848588372 \\cdot 10^{-6} m - 1\\right)^{2} + 145258768132.547 = 0$"
      ],
      "text/plain": [
       "Eq(2537971.0292*c + 10466451867.2917*(-9.77462848588372e-6*m - 1)**2 + 145258768132.547, 0)"
      ]
     },
     "metadata": {},
     "output_type": "display_data"
    },
    {
     "data": {
      "text/latex": [
       "$\\displaystyle 307026725.2 c + 2.56722800312234 \\cdot 10^{15} \\left(- 1.97363927674115 \\cdot 10^{-8} m - 1\\right)^{2} - 2.54618983576756 \\cdot 10^{15} = 0$"
      ],
      "text/plain": [
       "Eq(307026725.2*c + 2.56722800312234e+15*(-1.97363927674115e-8*m - 1)**2 - 2.54618983576756e+15, 0)"
      ]
     },
     "metadata": {},
     "output_type": "display_data"
    }
   ],
   "source": [
    "D0 = calculate(a0,b0,c0)   ## Discriminant from 1st Parabola\n",
    "D1 = calculate(a1,b1,c1)   ## Discriminant from 2st Parabola\n",
    "\n",
    "display(D0, D1)"
   ]
  },
  {
   "cell_type": "code",
   "execution_count": 7,
   "id": "df789f25-c51a-4729-a347-32ba4c652a26",
   "metadata": {},
   "outputs": [
    {
     "name": "stdout",
     "output_type": "stream",
     "text": [
      "[(-27533.7565393086, -59437.0884146717), (665868.545404405, -289739.480099658)]\n"
     ]
    }
   ],
   "source": [
    "result = sym.solve([D0,D1],(m,c))\n",
    "print(result)"
   ]
  },
  {
   "cell_type": "code",
   "execution_count": 8,
   "id": "8427f0ed-ff29-4d6d-bd58-e940926a1cec",
   "metadata": {},
   "outputs": [],
   "source": [
    "## Here 1st Calculation in this code is done between First Parabola P0 & Second Parabola P1\n",
    "\n",
    "m00, m01 =  result[0][0], result[1][0]   ## m01 == > '1' --> Second Slope of '0' First Calculation of slope in this code \n",
    "c00, c01 = result[0][1], result[1][1]\n",
    "\n",
    "## 2 sets of common tangents lines equations are\n",
    "L00 = m00 * x + c00\n",
    "L01 = m01 * x + c01"
   ]
  },
  {
   "cell_type": "code",
   "execution_count": 9,
   "id": "53a98498-96b0-4392-a3f2-39d496630ee2",
   "metadata": {},
   "outputs": [
    {
     "name": "stdout",
     "output_type": "stream",
     "text": [
      "Two contact points of 2 Tangents to Parabola 1 are: \n",
      " (x1,y1)= (0.0589225969631501, -61059.4488541188) \n",
      " (x2,y2)= (0.605345147863806, 113340.812976029)\n"
     ]
    }
   ],
   "source": [
    "## 2 set of x_eq & y_eq points at Parabola 1\n",
    "\n",
    "eq_subs_00  = sym.Eq(P0-L00,0)    ## Equation after substituion of Tangent 1 in Parabola 1 as shown above\n",
    "eq_subs_01  = sym.Eq(P0-L01,0)    ## Equation after substituion of Tangent 2 in Parabola 1\n",
    "\n",
    "x_eq_01_0 = sym.solve([eq_subs_00],(x))   ## x_eq i.e. x-Point where Tangent 1 meet Parabola 1 \n",
    "x_eq_01_0 = sym.re(x_eq_01_0[0][0])         ## Taking real part if complex number arises in case \n",
    "y_eq_01_0 = m00 *x_eq_01_0 + c00              ## y_eq i.e. y-Point where Tangent 1 meet Parabola 1\n",
    "\n",
    "x_eq_01_1 = sym.solve([eq_subs_01],(x))   ## x_eq i.e. x-Point where Tangent 2 meet Parabola 1 \n",
    "x_eq_01_1 = sym.re(x_eq_01_1[0][0])         ## Taking real part if complex number arises in case \n",
    "y_eq_01_1 = m01 *x_eq_01_1 + c01               ## y_eq i.e. y-Point where Tangent 2 meet Parabola 1\n",
    "\n",
    "print(f\"Two contact points of 2 Tangents to Parabola 1 are: \\n (x1,y1)= ({x_eq_01_0}, {y_eq_01_0}) \\n (x2,y2)= ({x_eq_01_1}, {y_eq_01_1})\")\n"
   ]
  },
  {
   "cell_type": "code",
   "execution_count": 10,
   "id": "f17044f7-345b-4fdb-ba68-b11790002632",
   "metadata": {},
   "outputs": [
    {
     "name": "stdout",
     "output_type": "stream",
     "text": [
      "Two contact points of 2 Tangents to Parabola 2 are: \n",
      " (x1,y1)= (0.329875429597167, -68519.7981814999) \n",
      " (x2,y2)= (0.334392315229791, -67078.1555631857)\n"
     ]
    }
   ],
   "source": [
    "## 2 set of x_eq & y_eq points at Parabola 2\n",
    "\n",
    "eq_subs_10  = sym.Eq(P1-L00,0)    ## Equation after substituion of Tangent 1 in Parabola 2 as shown above\n",
    "eq_subs_11  = sym.Eq(P1-L01,0)    ## Equation after substituion of Tangent 2 in Parabola 2\n",
    "\n",
    "x_eq_10_0 = sym.solve([eq_subs_10],(x))   ## x_eq i.e. x-Point where Tangent 1 meet Parabola 2 \n",
    "x_eq_10_0 = sym.re(x_eq_10_0[0][0])         ## Taking real part if complex number arises in case \n",
    "y_eq_10_0 = m00 *x_eq_10_0 + c00              ## y_eq i.e. y-Point where Tangent 1 meet Parabola 2\n",
    "\n",
    "x_eq_10_1 = sym.solve([eq_subs_11],(x))   ## x_eq i.e. x-Point where Tangent 2 meet Parabola 2\n",
    "x_eq_10_1 = sym.re(x_eq_10_1[0][0])         ## Taking real part if complex number arises in case \n",
    "y_eq_10_1 = m01 *x_eq_10_1 + c01              ## y_eq i.e. y-Point where Tangent 2 meet Parabola 2\n",
    "\n",
    "print(f\"Two contact points of 2 Tangents to Parabola 2 are: \\n (x1,y1)= ({x_eq_10_0}, {y_eq_10_0}) \\n (x2,y2)= ({x_eq_10_1}, {y_eq_10_1})\")"
   ]
  },
  {
   "cell_type": "code",
   "execution_count": 11,
   "id": "ea6b6d00-6816-4d56-8127-4d72658c9c66",
   "metadata": {},
   "outputs": [
    {
     "name": "stdout",
     "output_type": "stream",
     "text": [
      "2 equilibrium points from 1st tangent to Both Parabolas: (x_eq1, x_eq2) = (0.059, 0.330) \n",
      "2 equilibrium points from 2nd tangent to Both Parabolas: (x_eq1, x_eq2) = (0.605, 0.334) \n"
     ]
    }
   ],
   "source": [
    "## The contanct points of 2 Tangents at 2 curves are:\n",
    "\n",
    "print(f\"2 equilibrium points from 1st tangent to Both Parabolas: (x_eq1, x_eq2) = ({round(x_eq_01_0,3)}, {round(x_eq_10_0,3)}) \")\n",
    "print(f\"2 equilibrium points from 2nd tangent to Both Parabolas: (x_eq1, x_eq2) = ({round(x_eq_01_1,3)}, {round(x_eq_10_1,3)}) \")"
   ]
  },
  {
   "cell_type": "code",
   "execution_count": 12,
   "id": "02c11c7c-43a3-4983-8f5f-864b224c064d",
   "metadata": {},
   "outputs": [],
   "source": [
    "xeq1 = widgets.FloatSlider(value=x_eq_01_0, min=0.0, max=1.0, step=0.01, description='Float Slider:')\n",
    "yeq1 = widgets.FloatSlider(value=y_eq_01_0, min=-70000, max=-50000, step=1000, description='Float Slider:')\n",
    "xeq2 = widgets.FloatSlider(value=x_eq_10_0, min=0.0, max=1.0, step=0.01, description='Float Slider:')\n",
    "yeq2 = widgets.FloatSlider(value=y_eq_10_0, min=-75000, max=-55000, step=1000, description='Float Slider:')"
   ]
  },
  {
   "cell_type": "code",
   "execution_count": 25,
   "id": "7632dbbc-c9f1-4ce7-a83a-9efad582f2ee",
   "metadata": {},
   "outputs": [
    {
     "data": {
      "application/vnd.jupyter.widget-view+json": {
       "model_id": "fdf46d3a08c8402f84761ddda7ae17e0",
       "version_major": 2,
       "version_minor": 0
      },
      "text/plain": [
       "Output()"
      ]
     },
     "metadata": {},
     "output_type": "display_data"
    },
    {
     "data": {
      "application/vnd.jupyter.widget-view+json": {
       "model_id": "d6d68313ad6743f9a1356382b1f45a8b",
       "version_major": 2,
       "version_minor": 0
      },
      "text/plain": [
       "HBox(children=(FloatSlider(value=634000.0, description='A0:', max=750000.0, min=500000.0, readout_format='.3f'…"
      ]
     },
     "metadata": {},
     "output_type": "display_data"
    },
    {
     "data": {
      "application/vnd.jupyter.widget-view+json": {
       "model_id": "32ed1c72201f49d183032d9bbbfb2b60",
       "version_major": 2,
       "version_minor": 0
      },
      "text/plain": [
       "HBox(children=(FloatSlider(value=76757000.0, description='A1:', max=80000000.0, min=70000000.0, readout_format…"
      ]
     },
     "metadata": {},
     "output_type": "display_data"
    },
    {
     "name": "stdout",
     "output_type": "stream",
     "text": [
      "The Equivalent Composition points between IMC and HCP are: (0.059, -61059.4) and (0.330, -68519.8)\n"
     ]
    }
   ],
   "source": [
    "out = widgets.interactive_output(Parabola, {\"A0\" : A0, \"B0\" : B0, \"C0\" : C0, \"x01\" : x01, \"x02\" : x02, \"A1\" : A1, \"B1\" : B1, \"C1\" : C1, \"x11\" : x11, \"x12\" : x12, \"xeq1\": xeq1, \"yeq1\": yeq1, \"xeq2\": xeq2, \"yeq2\": yeq2})\n",
    "display(out,ui0, ui1, )\n",
    "print(f'The Equivalent Composition points between IMC and HCP are: ({x_eq_01_0:.3f}, {y_eq_01_0:.1f}) and ({x_eq_10_0:.3f}, {y_eq_10_0:.1f})')"
   ]
  },
  {
   "cell_type": "code",
   "execution_count": null,
   "id": "7c7c790d-eabc-41e7-a1da-4e1b98f0fe3d",
   "metadata": {},
   "outputs": [],
   "source": []
  },
  {
   "cell_type": "code",
   "execution_count": null,
   "id": "aa0ce668-8c12-4c97-9472-cbf135e7034a",
   "metadata": {},
   "outputs": [],
   "source": []
  },
  {
   "cell_type": "code",
   "execution_count": null,
   "id": "9566cc1b-f255-4b3d-bd49-5174170447ab",
   "metadata": {},
   "outputs": [],
   "source": []
  },
  {
   "cell_type": "markdown",
   "id": "6c28469f-43c8-4ca8-be07-2ca36e40ff6a",
   "metadata": {
    "jp-MarkdownHeadingCollapsed": true
   },
   "source": [
    "## Laser vtu file"
   ]
  },
  {
   "cell_type": "code",
   "execution_count": null,
   "id": "2acefe61-96c9-4db5-8f05-8b11e7dc9192",
   "metadata": {},
   "outputs": [],
   "source": [
    "path = os.path.abspath('../moose_files/laser/')\n",
    "file_name = path+\"/t0010.vtu\"\n",
    "grid = pv.read(file_name)"
   ]
  },
  {
   "cell_type": "code",
   "execution_count": null,
   "id": "4d0ab480-9e25-444d-a82e-988b203794e0",
   "metadata": {},
   "outputs": [],
   "source": [
    "slice_z = grid.slice_orthogonal(x=0, y=0, z=0)\n",
    "plotter = pv.Plotter()\n",
    "plotter.add_mesh(slice_z, color='blue', show_edges=True)"
   ]
  },
  {
   "cell_type": "code",
   "execution_count": null,
   "id": "001493ef-682e-4dbc-a9cd-90a87cef1ab4",
   "metadata": {},
   "outputs": [],
   "source": [
    "x_coordinates = grid.points[:, 0]\n",
    "y_coordinates = grid.points[:, 1]\n",
    "z_coordinates = grid.points[:, 2]"
   ]
  },
  {
   "cell_type": "code",
   "execution_count": null,
   "id": "6602c29b-8908-4a38-afae-f826f1044b22",
   "metadata": {},
   "outputs": [],
   "source": [
    "temp =  grid['temperature']"
   ]
  },
  {
   "cell_type": "code",
   "execution_count": null,
   "id": "388ed636-a86c-4714-ba4b-d35b1e7fd968",
   "metadata": {},
   "outputs": [],
   "source": [
    "plt.scatter(x_coordinates, y_coordinates, temp, c=temp, )\n",
    "plt.show()"
   ]
  },
  {
   "cell_type": "code",
   "execution_count": null,
   "id": "32b22388-82af-4e50-b0b0-d5215778cfc8",
   "metadata": {},
   "outputs": [],
   "source": []
  },
  {
   "cell_type": "code",
   "execution_count": null,
   "id": "aef24d3c-f88d-4a9f-8740-92f9e373cc83",
   "metadata": {},
   "outputs": [],
   "source": []
  },
  {
   "cell_type": "code",
   "execution_count": null,
   "id": "7ff943cd-2009-4c46-beb2-683d314a1868",
   "metadata": {},
   "outputs": [],
   "source": [
    "# Extract X and Y coordinates\n",
    "x_coordinates = grid.points[:, 0]\n",
    "y_coordinates = grid.points[:, 1]\n",
    "\n",
    "# Create a new mesh with only X and Y coordinates\n",
    "grid_xy = pv.PolyData(np.column_stack((x_coordinates, y_coordinates, z_coordinates)))\n",
    "\n",
    "# Create a plotter\n",
    "plotter = pv.Plotter()\n",
    "\n",
    "# Add the XY grid to the plotter\n",
    "plotter.add_mesh(grid_xy, color='blue', point_size=5)\n",
    "\n",
    "# Display the plotter\n",
    "plotter.show()\n"
   ]
  },
  {
   "cell_type": "code",
   "execution_count": null,
   "id": "b8d9cb81-6568-459e-bdf1-b83b304c7294",
   "metadata": {},
   "outputs": [],
   "source": []
  },
  {
   "cell_type": "code",
   "execution_count": null,
   "id": "b2ff94f2-55f0-40de-a443-db035178399b",
   "metadata": {},
   "outputs": [],
   "source": [
    "grid"
   ]
  },
  {
   "cell_type": "code",
   "execution_count": null,
   "id": "54726503-6223-4051-a0ba-25f37006a45e",
   "metadata": {},
   "outputs": [],
   "source": [
    "grid['temperature']"
   ]
  },
  {
   "cell_type": "code",
   "execution_count": null,
   "id": "c1cddb3b-d2ab-4595-af53-d547c461b5bb",
   "metadata": {},
   "outputs": [],
   "source": [
    "grid['GeometryIds']"
   ]
  },
  {
   "cell_type": "code",
   "execution_count": null,
   "id": "e13f3aac-b9a1-40ce-8964-c8e32d989a40",
   "metadata": {},
   "outputs": [],
   "source": [
    "grid.array_names"
   ]
  },
  {
   "cell_type": "code",
   "execution_count": null,
   "id": "8cebf051-086a-46b9-87cf-f3e2a1d2304f",
   "metadata": {},
   "outputs": [],
   "source": [
    "grid.plot"
   ]
  },
  {
   "cell_type": "code",
   "execution_count": null,
   "id": "d1827766-73ae-4105-96ec-08ef9b59e5cb",
   "metadata": {},
   "outputs": [],
   "source": [
    "# Create a plotter\n",
    "plotter = pv.Plotter()\n",
    "\n",
    "# Add the grid to the plotter\n",
    "plotter.add_mesh(grid, color='blue', show_edges=True)\n",
    "\n",
    "# Display the plotter\n",
    "plotter.show()\n"
   ]
  },
  {
   "cell_type": "code",
   "execution_count": null,
   "id": "cb0b0019-79c4-4dd0-b896-e597c6a776ab",
   "metadata": {},
   "outputs": [],
   "source": []
  },
  {
   "cell_type": "code",
   "execution_count": null,
   "id": "603def1f-13fe-43bd-9c95-328e6144d090",
   "metadata": {},
   "outputs": [],
   "source": []
  },
  {
   "cell_type": "code",
   "execution_count": null,
   "id": "528c5b8e-bc1f-48b1-b1df-de12a1e315e3",
   "metadata": {},
   "outputs": [],
   "source": []
  },
  {
   "cell_type": "code",
   "execution_count": null,
   "id": "26595bc6-2e11-4f20-abf5-d9369d4deb0c",
   "metadata": {},
   "outputs": [],
   "source": []
  },
  {
   "cell_type": "code",
   "execution_count": null,
   "id": "a8d9e6bd-2133-400e-98c2-579b5b5792f3",
   "metadata": {},
   "outputs": [],
   "source": []
  },
  {
   "cell_type": "code",
   "execution_count": null,
   "id": "41182966-35a6-49cf-b8c3-a69df0f6d682",
   "metadata": {},
   "outputs": [],
   "source": []
  },
  {
   "cell_type": "code",
   "execution_count": null,
   "id": "dfb4921e-e618-4a56-89b9-a853f836c1b7",
   "metadata": {},
   "outputs": [],
   "source": []
  },
  {
   "cell_type": "code",
   "execution_count": null,
   "id": "acfc9e34-902f-48e7-b2b6-3e282565951e",
   "metadata": {},
   "outputs": [],
   "source": []
  }
 ],
 "metadata": {
  "kernelspec": {
   "display_name": "Python 3 (ipykernel)",
   "language": "python",
   "name": "python3"
  },
  "language_info": {
   "codemirror_mode": {
    "name": "ipython",
    "version": 3
   },
   "file_extension": ".py",
   "mimetype": "text/x-python",
   "name": "python",
   "nbconvert_exporter": "python",
   "pygments_lexer": "ipython3",
   "version": "3.10.6"
  }
 },
 "nbformat": 4,
 "nbformat_minor": 5
}
