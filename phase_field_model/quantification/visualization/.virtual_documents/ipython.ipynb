import numpy as np
import matplotlib.pyplot as plt
from mpl_toolkits.mplot3d import Axes3D

def gaussian_3d(x, y, mu, sigma):
    """
    Compute the value of a 3D Gaussian distribution at given (x, y) coordinates.

    Parameters:
    - x, y: Coordinates for evaluation
    - mu: Mean vector [mu_x, mu_y]
    - sigma: Covariance matrix [[sigma_x^2, rho * sigma_x * sigma_y], [rho * sigma_x * sigma_y, sigma_y^2]]

    Returns:
    - Gaussian distribution value at (x, y)
    """
    inv_sigma = np.linalg.inv(sigma)
    det_sigma = np.linalg.det(sigma)
    norm_factor = 1 / (2 * np.pi * np.sqrt(det_sigma))
    
    x_mu = np.column_stack((x - mu[0], y - mu[1]))
    exponent = -0.5 * np.sum(x_mu @ inv_sigma * x_mu, axis=1)

    return norm_factor * np.exp(exponent)

# Create a 3D grid of points
x = np.linspace(-5, 5, 100)
y = np.linspace(-5, 5, 100)
x, y = np.meshgrid(x, y)

# Set the mean and covariance matrix
mu = [0, 0]
sigma = np.array([[1, 0.5], [0.5, 1]])

# Evaluate the Gaussian distribution at each point on the grid
z = gaussian_3d(x.flatten(), y.flatten(), mu, sigma)
z = z.reshape(x.shape)

# Create a 3D plot
fig = plt.figure()
ax = fig.add_subplot(111, projection='3d')

# Plot the Gaussian distribution
ax.plot_surface(x, y, z, cmap='viridis', alpha=0.8)

# Set labels
ax.set_xlabel('X-axis')
ax.set_ylabel('Y-axis')
ax.set_zlabel('Gaussian Distribution')

plt.title('3D Gaussian Distribution')
plt.show()



import numpy as np
import matplotlib.pyplot as plt
from mpl_toolkits.mplot3d import Axes3D

def gaussian_3d(x, y, power, absorptance, beam_radius):
    # Gaussian function
    return ((power * absorptance)/(np.pi*beam_radius**2)) * (np.exp(-(x**2 + y**2) / (beam_radius**2)))

# Define parameters
power = 1000  # Power of the beam
absorptance = 8.5e7  # Absorptance coefficient
beam_radius = 122.5e-6  # Beam radius

# Generate data
x = np.linspace(-5, 5, 100)
y = np.linspace(-5, 5, 100)
x, y = np.meshgrid(x, y)
z = gaussian_3d(x, y, power, absorptance, beam_radius)

# Create 3D plot
fig = plt.figure()
ax = fig.add_subplot(111, projection='3d')
ax.plot_surface(x, y, z, cmap='viridis')

# Set labels
ax.set_xlabel('X-axis')
ax.set_ylabel('Y-axis')
ax.set_zlabel('Intensity')

# Set title
plt.title('3D Gaussian Heat Distribution')

# Show plot
plt.show()






r0_squared = 0.17225
r= 0.15

U = np.where(r0_squared - r < 0, np.maximum(0, r0_squared - r), 1)
U


import numpy as np
import matplotlib.pyplot as plt
from scipy.stats import norm, skewnorm
from mpl_toolkits.mplot3d import Axes3D

# Function to generate data from a super-Gaussian distribution
def generate_super_gaussian_data(size, alpha):
    # Generate random data from a skew-normal distribution
    data = skewnorm.rvs(alpha, size=size)
    return data

# Parameters
size = 1000  # Number of data points
alpha = 5    # Skewness parameter for skew-normal distribution

# Generate super-Gaussian data
data = generate_super_gaussian_data(size, alpha)

# Create 3D histogram
hist, edges = np.histogram(data, bins=50, density=True)
x = (edges[:-1] + edges[1:]) / 2
y = np.linspace(min(data), max(data), 100)
X, Y = np.meshgrid(x, y)
Z = np.zeros_like(X)

# Populate the 3D histogram
for i in range(len(x)):
    Z[:, i] = norm.pdf(y, loc=x[i], scale=np.std(data)) * hist[i]

# Create 3D plot
fig = plt.figure()
ax = fig.add_subplot(111, projection='3d')
ax.plot_surface(X, Y, Z, cmap='viridis')

# Set labels
ax.set_xlabel('X-axis')
ax.set_ylabel('Y-axis')
ax.set_zlabel('Probability density')

# Show the plot
plt.show()






import numpy as np
import matplotlib.pyplot as plt
from scipy.stats import norm, skewnorm

# Function to generate data from a flat-top super-Gaussian distribution
def generate_flat_top_super_gaussian_data(size, alpha, beta):
    # Generate random data from a skew-normal distribution
    data = skewnorm.rvs(alpha, size=size)
    # Apply a scaling factor to create a flat top
    data = data * (1 - beta) + beta * norm.rvs(size=size)
    return data

# Parameters
size = 1000  # Number of data points
alpha = 5    # Skewness parameter for skew-normal distribution
beta = 0.2   # Scaling factor for creating a flat top

# Generate flat-top super-Gaussian data
data = generate_flat_top_super_gaussian_data(size, alpha, beta)

# Plot the histogram
plt.hist(data, bins=50, density=True, alpha=0.7, color='blue', label='Flat-Top Super-Gaussian')

# Plot the standard Gaussian for comparison
x = np.linspace(min(data), max(data), 100)
plt.plot(x, norm.pdf(x, loc=np.mean(data), scale=np.std(data)), 'r--', label='Gaussian')

# Set labels and legend
plt.xlabel('X-axis')
plt.ylabel('Probability density')
plt.legend()

# Show the plot
plt.show()



import numpy as np
import matplotlib.pyplot as plt
from scipy.stats import norm, skewnorm
from mpl_toolkits.mplot3d import Axes3D

# Function to generate data from a flat-top super-Gaussian distribution
def generate_flat_top_super_gaussian_data(size, alpha, beta):
    # Generate random data from a skew-normal distribution
    data = skewnorm.rvs(alpha, size=size)
    # Apply a scaling factor to create a flat top
    data = data * (1 - beta) + beta * norm.rvs(size=size)
    return data

# Parameters
size = 1000  # Number of data points
alpha = 5    # Skewness parameter for skew-normal distribution
beta = 0.2   # Scaling factor for creating a flat top

# Generate flat-top super-Gaussian data
data = generate_flat_top_super_gaussian_data(size, alpha, beta)

# Create 3D histogram
hist, edges = np.histogram(data, bins=50, density=True)
x = (edges[:-1] + edges[1:]) / 2
y = np.linspace(min(data), max(data), 100)
X, Y = np.meshgrid(x, y)
Z = np.zeros_like(X)

# Populate the 3D histogram
for i in range(len(x)):
    Z[:, i] = norm.pdf(y, loc=x[i], scale=np.std(data)) * hist[i]

# Create 3D plot
fig = plt.figure()
ax = fig.add_subplot(111, projection='3d')
ax.plot_surface(X, Y, Z, cmap='viridis')

# Set labels
ax.set_xlabel('X-axis')
ax.set_ylabel('Y-axis')
ax.set_zlabel('Probability density')

# Show the plot
plt.show()



import numpy as np
import matplotlib.pyplot as plt
from mpl_toolkits.mplot3d import Axes3D
from math import gamma


k = np.linspace(1,100,100)


g_k = []
for i in range(1,101,1):
    g_k.append(gamma(1/i))
    # print(i)



plt.plot(k, g_k)


gamma(0.5)


import numpy as np
import matplotlib.pyplot as plt
from mpl_toolkits.mplot3d import Axes3D

def inverse_gaussian_pdf(x, mu, lambd):
    return np.sqrt(lambd / (2 * np.pi * x**3)) * np.exp(-lambd * (x - mu)**2 / (2 * mu**2 * x))

# Parameters
mu = 1.0
lambd = 1.0

# Create a meshgrid of x values
x_values = np.linspace(0.1, 5, 100)
y_values = np.linspace(0.1, 3, 100)
x, y = np.meshgrid(x_values, y_values)

# Calculate PDF values for each (x, y) pair
z = inverse_gaussian_pdf(x, mu, lambd)

# Plot in 3D
fig = plt.figure()
ax = fig.add_subplot(111, projection='3d')
ax.plot_surface(x, y, z, cmap='viridis')

# Set labels and title
ax.set_xlabel('X')
ax.set_ylabel('Y')
ax.set_zlabel('PDF')
ax.set_title('Inverse Gaussian Distribution PDF')

# Show the plot
plt.show()



















